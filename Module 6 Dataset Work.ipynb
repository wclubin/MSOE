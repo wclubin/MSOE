{
 "cells": [
  {
   "cell_type": "code",
   "execution_count": 2,
   "id": "331de8d6-d3cd-4331-9e28-13ec22c86a55",
   "metadata": {},
   "outputs": [],
   "source": [
    "import pandas as pd\n",
    "import numpy as np"
   ]
  },
  {
   "cell_type": "code",
   "execution_count": 3,
   "id": "a90d3730-e62c-4d0c-ba20-8c8d34cb6462",
   "metadata": {},
   "outputs": [],
   "source": [
    "pd.set_option('display.max_columns', None)\n",
    "pd.set_option('display.max_colwidth', None)"
   ]
  },
  {
   "cell_type": "markdown",
   "id": "2dc26943-d4f9-47ba-b542-2b2cec5b4083",
   "metadata": {},
   "source": [
    "\n",
    "#### Household Power Consumption\n"
   ]
  },
  {
   "cell_type": "code",
   "execution_count": 3,
   "id": "c2113065-6da6-49c2-b84e-710c44f02482",
   "metadata": {},
   "outputs": [],
   "source": [
    "df = pd.read_csv(\"household_power_consumption.txt\", sep=\";\", low_memory=False)"
   ]
  },
  {
   "cell_type": "code",
   "execution_count": 4,
   "id": "51dcf0b3-e752-4400-a276-dace6ed900f5",
   "metadata": {},
   "outputs": [
    {
     "data": {
      "text/html": [
       "<div>\n",
       "<style scoped>\n",
       "    .dataframe tbody tr th:only-of-type {\n",
       "        vertical-align: middle;\n",
       "    }\n",
       "\n",
       "    .dataframe tbody tr th {\n",
       "        vertical-align: top;\n",
       "    }\n",
       "\n",
       "    .dataframe thead th {\n",
       "        text-align: right;\n",
       "    }\n",
       "</style>\n",
       "<table border=\"1\" class=\"dataframe\">\n",
       "  <thead>\n",
       "    <tr style=\"text-align: right;\">\n",
       "      <th></th>\n",
       "      <th>Date</th>\n",
       "      <th>Time</th>\n",
       "      <th>Global_active_power</th>\n",
       "      <th>Global_reactive_power</th>\n",
       "      <th>Voltage</th>\n",
       "      <th>Global_intensity</th>\n",
       "      <th>Sub_metering_1</th>\n",
       "      <th>Sub_metering_2</th>\n",
       "      <th>Sub_metering_3</th>\n",
       "    </tr>\n",
       "  </thead>\n",
       "  <tbody>\n",
       "    <tr>\n",
       "      <th>0</th>\n",
       "      <td>16/12/2006</td>\n",
       "      <td>17:24:00</td>\n",
       "      <td>4.216</td>\n",
       "      <td>0.418</td>\n",
       "      <td>234.840</td>\n",
       "      <td>18.400</td>\n",
       "      <td>0.000</td>\n",
       "      <td>1.000</td>\n",
       "      <td>17.0</td>\n",
       "    </tr>\n",
       "    <tr>\n",
       "      <th>1</th>\n",
       "      <td>16/12/2006</td>\n",
       "      <td>17:25:00</td>\n",
       "      <td>5.360</td>\n",
       "      <td>0.436</td>\n",
       "      <td>233.630</td>\n",
       "      <td>23.000</td>\n",
       "      <td>0.000</td>\n",
       "      <td>1.000</td>\n",
       "      <td>16.0</td>\n",
       "    </tr>\n",
       "    <tr>\n",
       "      <th>2</th>\n",
       "      <td>16/12/2006</td>\n",
       "      <td>17:26:00</td>\n",
       "      <td>5.374</td>\n",
       "      <td>0.498</td>\n",
       "      <td>233.290</td>\n",
       "      <td>23.000</td>\n",
       "      <td>0.000</td>\n",
       "      <td>2.000</td>\n",
       "      <td>17.0</td>\n",
       "    </tr>\n",
       "    <tr>\n",
       "      <th>3</th>\n",
       "      <td>16/12/2006</td>\n",
       "      <td>17:27:00</td>\n",
       "      <td>5.388</td>\n",
       "      <td>0.502</td>\n",
       "      <td>233.740</td>\n",
       "      <td>23.000</td>\n",
       "      <td>0.000</td>\n",
       "      <td>1.000</td>\n",
       "      <td>17.0</td>\n",
       "    </tr>\n",
       "    <tr>\n",
       "      <th>4</th>\n",
       "      <td>16/12/2006</td>\n",
       "      <td>17:28:00</td>\n",
       "      <td>3.666</td>\n",
       "      <td>0.528</td>\n",
       "      <td>235.680</td>\n",
       "      <td>15.800</td>\n",
       "      <td>0.000</td>\n",
       "      <td>1.000</td>\n",
       "      <td>17.0</td>\n",
       "    </tr>\n",
       "    <tr>\n",
       "      <th>5</th>\n",
       "      <td>16/12/2006</td>\n",
       "      <td>17:29:00</td>\n",
       "      <td>3.520</td>\n",
       "      <td>0.522</td>\n",
       "      <td>235.020</td>\n",
       "      <td>15.000</td>\n",
       "      <td>0.000</td>\n",
       "      <td>2.000</td>\n",
       "      <td>17.0</td>\n",
       "    </tr>\n",
       "    <tr>\n",
       "      <th>6</th>\n",
       "      <td>16/12/2006</td>\n",
       "      <td>17:30:00</td>\n",
       "      <td>3.702</td>\n",
       "      <td>0.520</td>\n",
       "      <td>235.090</td>\n",
       "      <td>15.800</td>\n",
       "      <td>0.000</td>\n",
       "      <td>1.000</td>\n",
       "      <td>17.0</td>\n",
       "    </tr>\n",
       "    <tr>\n",
       "      <th>7</th>\n",
       "      <td>16/12/2006</td>\n",
       "      <td>17:31:00</td>\n",
       "      <td>3.700</td>\n",
       "      <td>0.520</td>\n",
       "      <td>235.220</td>\n",
       "      <td>15.800</td>\n",
       "      <td>0.000</td>\n",
       "      <td>1.000</td>\n",
       "      <td>17.0</td>\n",
       "    </tr>\n",
       "    <tr>\n",
       "      <th>8</th>\n",
       "      <td>16/12/2006</td>\n",
       "      <td>17:32:00</td>\n",
       "      <td>3.668</td>\n",
       "      <td>0.510</td>\n",
       "      <td>233.990</td>\n",
       "      <td>15.800</td>\n",
       "      <td>0.000</td>\n",
       "      <td>1.000</td>\n",
       "      <td>17.0</td>\n",
       "    </tr>\n",
       "    <tr>\n",
       "      <th>9</th>\n",
       "      <td>16/12/2006</td>\n",
       "      <td>17:33:00</td>\n",
       "      <td>3.662</td>\n",
       "      <td>0.510</td>\n",
       "      <td>233.860</td>\n",
       "      <td>15.800</td>\n",
       "      <td>0.000</td>\n",
       "      <td>2.000</td>\n",
       "      <td>16.0</td>\n",
       "    </tr>\n",
       "  </tbody>\n",
       "</table>\n",
       "</div>"
      ],
      "text/plain": [
       "         Date      Time Global_active_power Global_reactive_power  Voltage  \\\n",
       "0  16/12/2006  17:24:00               4.216                 0.418  234.840   \n",
       "1  16/12/2006  17:25:00               5.360                 0.436  233.630   \n",
       "2  16/12/2006  17:26:00               5.374                 0.498  233.290   \n",
       "3  16/12/2006  17:27:00               5.388                 0.502  233.740   \n",
       "4  16/12/2006  17:28:00               3.666                 0.528  235.680   \n",
       "5  16/12/2006  17:29:00               3.520                 0.522  235.020   \n",
       "6  16/12/2006  17:30:00               3.702                 0.520  235.090   \n",
       "7  16/12/2006  17:31:00               3.700                 0.520  235.220   \n",
       "8  16/12/2006  17:32:00               3.668                 0.510  233.990   \n",
       "9  16/12/2006  17:33:00               3.662                 0.510  233.860   \n",
       "\n",
       "  Global_intensity Sub_metering_1 Sub_metering_2  Sub_metering_3  \n",
       "0           18.400          0.000          1.000            17.0  \n",
       "1           23.000          0.000          1.000            16.0  \n",
       "2           23.000          0.000          2.000            17.0  \n",
       "3           23.000          0.000          1.000            17.0  \n",
       "4           15.800          0.000          1.000            17.0  \n",
       "5           15.000          0.000          2.000            17.0  \n",
       "6           15.800          0.000          1.000            17.0  \n",
       "7           15.800          0.000          1.000            17.0  \n",
       "8           15.800          0.000          1.000            17.0  \n",
       "9           15.800          0.000          2.000            16.0  "
      ]
     },
     "execution_count": 4,
     "metadata": {},
     "output_type": "execute_result"
    }
   ],
   "source": [
    "df.head(10)"
   ]
  },
  {
   "cell_type": "code",
   "execution_count": 5,
   "id": "8f126db6-11ab-4705-b181-0c420ee8702c",
   "metadata": {},
   "outputs": [
    {
     "name": "stdout",
     "output_type": "stream",
     "text": [
      "<class 'pandas.core.frame.DataFrame'>\n",
      "RangeIndex: 2075259 entries, 0 to 2075258\n",
      "Data columns (total 9 columns):\n",
      " #   Column                 Dtype  \n",
      "---  ------                 -----  \n",
      " 0   Date                   object \n",
      " 1   Time                   object \n",
      " 2   Global_active_power    object \n",
      " 3   Global_reactive_power  object \n",
      " 4   Voltage                object \n",
      " 5   Global_intensity       object \n",
      " 6   Sub_metering_1         object \n",
      " 7   Sub_metering_2         object \n",
      " 8   Sub_metering_3         float64\n",
      "dtypes: float64(1), object(8)\n",
      "memory usage: 142.5+ MB\n"
     ]
    }
   ],
   "source": [
    "df.info()"
   ]
  },
  {
   "cell_type": "code",
   "execution_count": 6,
   "id": "7794c927-1609-4817-92e6-947f4a857783",
   "metadata": {},
   "outputs": [
    {
     "name": "stdout",
     "output_type": "stream",
     "text": [
      "Date                         0\n",
      "Time                         0\n",
      "Global_active_power          0\n",
      "Global_reactive_power        0\n",
      "Voltage                      0\n",
      "Global_intensity             0\n",
      "Sub_metering_1               0\n",
      "Sub_metering_2               0\n",
      "Sub_metering_3           25979\n",
      "dtype: int64\n"
     ]
    }
   ],
   "source": [
    "# Column-wise null count\n",
    "null_counts = df.isnull().sum()\n",
    "print(null_counts)"
   ]
  },
  {
   "cell_type": "markdown",
   "id": "3f0ce682-51ac-4419-add1-db105c9ae582",
   "metadata": {},
   "source": [
    "\n",
    "##### Create new data frame extracting only the information we need.\n"
   ]
  },
  {
   "cell_type": "code",
   "execution_count": 7,
   "id": "5d15214b-f9c6-48c1-9b8d-212b92a8b86d",
   "metadata": {},
   "outputs": [],
   "source": [
    "# Combine 'Date' and 'Time' into a 'datetime' column\n",
    "df['datetime'] = pd.to_datetime(df['Date'] + ' ' + df['Time'], format='%d/%m/%Y %H:%M:%S')\n",
    "\n",
    "# Convert power columns to float\n",
    "df['Global_active_power'] = pd.to_numeric(df['Global_active_power'], errors='coerce')\n",
    "df['Global_reactive_power'] = pd.to_numeric(df['Global_reactive_power'], errors='coerce')\n",
    "\n",
    "# Calculate 'app_power'\n",
    "df['app_power'] = np.sqrt(df['Global_active_power']**2 + df['Global_reactive_power']**2)\n",
    "\n",
    "# Create the new DataFrame with required columns\n",
    "new_df = df[['datetime', 'app_power']]"
   ]
  },
  {
   "cell_type": "code",
   "execution_count": 8,
   "id": "d7bfcadc-f770-4dad-9d26-283b9ad9ffd0",
   "metadata": {},
   "outputs": [
    {
     "name": "stdout",
     "output_type": "stream",
     "text": [
      "<class 'pandas.core.frame.DataFrame'>\n",
      "RangeIndex: 2075259 entries, 0 to 2075258\n",
      "Data columns (total 2 columns):\n",
      " #   Column     Dtype         \n",
      "---  ------     -----         \n",
      " 0   datetime   datetime64[ns]\n",
      " 1   app_power  float64       \n",
      "dtypes: datetime64[ns](1), float64(1)\n",
      "memory usage: 31.7 MB\n"
     ]
    }
   ],
   "source": [
    "new_df.info()"
   ]
  },
  {
   "cell_type": "code",
   "execution_count": 9,
   "id": "f6a05dba-efc7-4b49-a523-22ffe14aef4c",
   "metadata": {},
   "outputs": [
    {
     "data": {
      "text/html": [
       "<div>\n",
       "<style scoped>\n",
       "    .dataframe tbody tr th:only-of-type {\n",
       "        vertical-align: middle;\n",
       "    }\n",
       "\n",
       "    .dataframe tbody tr th {\n",
       "        vertical-align: top;\n",
       "    }\n",
       "\n",
       "    .dataframe thead th {\n",
       "        text-align: right;\n",
       "    }\n",
       "</style>\n",
       "<table border=\"1\" class=\"dataframe\">\n",
       "  <thead>\n",
       "    <tr style=\"text-align: right;\">\n",
       "      <th></th>\n",
       "      <th>datetime</th>\n",
       "      <th>app_power</th>\n",
       "    </tr>\n",
       "  </thead>\n",
       "  <tbody>\n",
       "    <tr>\n",
       "      <th>0</th>\n",
       "      <td>2006-12-16 17:24:00</td>\n",
       "      <td>4.236671</td>\n",
       "    </tr>\n",
       "    <tr>\n",
       "      <th>1</th>\n",
       "      <td>2006-12-16 17:25:00</td>\n",
       "      <td>5.377704</td>\n",
       "    </tr>\n",
       "    <tr>\n",
       "      <th>2</th>\n",
       "      <td>2006-12-16 17:26:00</td>\n",
       "      <td>5.397025</td>\n",
       "    </tr>\n",
       "    <tr>\n",
       "      <th>3</th>\n",
       "      <td>2006-12-16 17:27:00</td>\n",
       "      <td>5.411335</td>\n",
       "    </tr>\n",
       "    <tr>\n",
       "      <th>4</th>\n",
       "      <td>2006-12-16 17:28:00</td>\n",
       "      <td>3.703828</td>\n",
       "    </tr>\n",
       "  </tbody>\n",
       "</table>\n",
       "</div>"
      ],
      "text/plain": [
       "             datetime  app_power\n",
       "0 2006-12-16 17:24:00   4.236671\n",
       "1 2006-12-16 17:25:00   5.377704\n",
       "2 2006-12-16 17:26:00   5.397025\n",
       "3 2006-12-16 17:27:00   5.411335\n",
       "4 2006-12-16 17:28:00   3.703828"
      ]
     },
     "execution_count": 9,
     "metadata": {},
     "output_type": "execute_result"
    }
   ],
   "source": [
    "new_df.head()"
   ]
  },
  {
   "cell_type": "code",
   "execution_count": 10,
   "id": "45a7635a-0a01-47a2-9418-06c5a1df3a78",
   "metadata": {},
   "outputs": [],
   "source": [
    "# Save new_df as a Feather file\n",
    "new_df.to_feather('new_df.feather')"
   ]
  },
  {
   "cell_type": "code",
   "execution_count": 11,
   "id": "88325e30-56d5-40ef-b836-1eca874db947",
   "metadata": {},
   "outputs": [],
   "source": [
    "# Save new_df as a CSV file\n",
    "new_df.to_csv('new_df.csv', index=False)"
   ]
  },
  {
   "cell_type": "markdown",
   "id": "ca342dd6-08aa-420c-96b1-09a0770c1c22",
   "metadata": {},
   "source": [
    "\n",
    "#### Considering the temp dataset we were able to obtain, we will delete the time portion of the 'datetime' column and rename the column to 'Date'\n"
   ]
  },
  {
   "cell_type": "code",
   "execution_count": 15,
   "id": "6a6e726e-a535-4e51-a60d-69981d588a16",
   "metadata": {},
   "outputs": [],
   "source": [
    "new_df = pd.read_feather('new_df.feather')"
   ]
  },
  {
   "cell_type": "code",
   "execution_count": 16,
   "id": "c124c5b4-0cd4-416c-94d9-4e431fcdff7d",
   "metadata": {},
   "outputs": [
    {
     "name": "stdout",
     "output_type": "stream",
     "text": [
      "<class 'pandas.core.frame.DataFrame'>\n",
      "RangeIndex: 2075259 entries, 0 to 2075258\n",
      "Data columns (total 2 columns):\n",
      " #   Column     Dtype         \n",
      "---  ------     -----         \n",
      " 0   datetime   datetime64[ns]\n",
      " 1   app_power  float64       \n",
      "dtypes: datetime64[ns](1), float64(1)\n",
      "memory usage: 31.7 MB\n"
     ]
    }
   ],
   "source": [
    "new_df.info()"
   ]
  },
  {
   "cell_type": "code",
   "execution_count": 17,
   "id": "fe34e0aa-873b-4018-8513-375595bd9361",
   "metadata": {},
   "outputs": [
    {
     "data": {
      "text/html": [
       "<div>\n",
       "<style scoped>\n",
       "    .dataframe tbody tr th:only-of-type {\n",
       "        vertical-align: middle;\n",
       "    }\n",
       "\n",
       "    .dataframe tbody tr th {\n",
       "        vertical-align: top;\n",
       "    }\n",
       "\n",
       "    .dataframe thead th {\n",
       "        text-align: right;\n",
       "    }\n",
       "</style>\n",
       "<table border=\"1\" class=\"dataframe\">\n",
       "  <thead>\n",
       "    <tr style=\"text-align: right;\">\n",
       "      <th></th>\n",
       "      <th>datetime</th>\n",
       "      <th>app_power</th>\n",
       "    </tr>\n",
       "  </thead>\n",
       "  <tbody>\n",
       "    <tr>\n",
       "      <th>0</th>\n",
       "      <td>2006-12-16 17:24:00</td>\n",
       "      <td>4.236671</td>\n",
       "    </tr>\n",
       "    <tr>\n",
       "      <th>1</th>\n",
       "      <td>2006-12-16 17:25:00</td>\n",
       "      <td>5.377704</td>\n",
       "    </tr>\n",
       "    <tr>\n",
       "      <th>2</th>\n",
       "      <td>2006-12-16 17:26:00</td>\n",
       "      <td>5.397025</td>\n",
       "    </tr>\n",
       "    <tr>\n",
       "      <th>3</th>\n",
       "      <td>2006-12-16 17:27:00</td>\n",
       "      <td>5.411335</td>\n",
       "    </tr>\n",
       "    <tr>\n",
       "      <th>4</th>\n",
       "      <td>2006-12-16 17:28:00</td>\n",
       "      <td>3.703828</td>\n",
       "    </tr>\n",
       "  </tbody>\n",
       "</table>\n",
       "</div>"
      ],
      "text/plain": [
       "             datetime  app_power\n",
       "0 2006-12-16 17:24:00   4.236671\n",
       "1 2006-12-16 17:25:00   5.377704\n",
       "2 2006-12-16 17:26:00   5.397025\n",
       "3 2006-12-16 17:27:00   5.411335\n",
       "4 2006-12-16 17:28:00   3.703828"
      ]
     },
     "execution_count": 17,
     "metadata": {},
     "output_type": "execute_result"
    }
   ],
   "source": [
    "new_df.head()"
   ]
  },
  {
   "cell_type": "code",
   "execution_count": 18,
   "id": "80da2520-9301-488b-baa1-ff814b392e78",
   "metadata": {},
   "outputs": [],
   "source": [
    "# Rename the column 'datetime' to 'Date'\n",
    "new_df.rename(columns={'datetime': 'Date'}, inplace=True)\n",
    "\n",
    "# Remove the time portion of the 'Date' column (keep only YYYY-MM-DD)\n",
    "new_df['Date'] = pd.to_datetime(new_df['Date']).dt.date"
   ]
  },
  {
   "cell_type": "code",
   "execution_count": 19,
   "id": "574a467d-33e7-44ae-9b04-d7ef601e441c",
   "metadata": {},
   "outputs": [
    {
     "data": {
      "text/html": [
       "<div>\n",
       "<style scoped>\n",
       "    .dataframe tbody tr th:only-of-type {\n",
       "        vertical-align: middle;\n",
       "    }\n",
       "\n",
       "    .dataframe tbody tr th {\n",
       "        vertical-align: top;\n",
       "    }\n",
       "\n",
       "    .dataframe thead th {\n",
       "        text-align: right;\n",
       "    }\n",
       "</style>\n",
       "<table border=\"1\" class=\"dataframe\">\n",
       "  <thead>\n",
       "    <tr style=\"text-align: right;\">\n",
       "      <th></th>\n",
       "      <th>Date</th>\n",
       "      <th>app_power</th>\n",
       "    </tr>\n",
       "  </thead>\n",
       "  <tbody>\n",
       "    <tr>\n",
       "      <th>0</th>\n",
       "      <td>2006-12-16</td>\n",
       "      <td>4.236671</td>\n",
       "    </tr>\n",
       "    <tr>\n",
       "      <th>1</th>\n",
       "      <td>2006-12-16</td>\n",
       "      <td>5.377704</td>\n",
       "    </tr>\n",
       "    <tr>\n",
       "      <th>2</th>\n",
       "      <td>2006-12-16</td>\n",
       "      <td>5.397025</td>\n",
       "    </tr>\n",
       "    <tr>\n",
       "      <th>3</th>\n",
       "      <td>2006-12-16</td>\n",
       "      <td>5.411335</td>\n",
       "    </tr>\n",
       "    <tr>\n",
       "      <th>4</th>\n",
       "      <td>2006-12-16</td>\n",
       "      <td>3.703828</td>\n",
       "    </tr>\n",
       "  </tbody>\n",
       "</table>\n",
       "</div>"
      ],
      "text/plain": [
       "         Date  app_power\n",
       "0  2006-12-16   4.236671\n",
       "1  2006-12-16   5.377704\n",
       "2  2006-12-16   5.397025\n",
       "3  2006-12-16   5.411335\n",
       "4  2006-12-16   3.703828"
      ]
     },
     "execution_count": 19,
     "metadata": {},
     "output_type": "execute_result"
    }
   ],
   "source": [
    "new_df.head()"
   ]
  },
  {
   "cell_type": "code",
   "execution_count": 20,
   "id": "8ec669ce-41ae-4138-991e-43aad980a39b",
   "metadata": {},
   "outputs": [
    {
     "name": "stdout",
     "output_type": "stream",
     "text": [
      "<class 'pandas.core.frame.DataFrame'>\n",
      "RangeIndex: 2075259 entries, 0 to 2075258\n",
      "Data columns (total 2 columns):\n",
      " #   Column     Dtype  \n",
      "---  ------     -----  \n",
      " 0   Date       object \n",
      " 1   app_power  float64\n",
      "dtypes: float64(1), object(1)\n",
      "memory usage: 31.7+ MB\n"
     ]
    }
   ],
   "source": [
    "new_df.info()"
   ]
  },
  {
   "cell_type": "code",
   "execution_count": 21,
   "id": "106ff4a8-156e-46ab-82e2-7dd2a80f1426",
   "metadata": {},
   "outputs": [],
   "source": [
    "# Convert 'Date' column to datetime type\n",
    "new_df['Date'] = pd.to_datetime(new_df['Date'])"
   ]
  },
  {
   "cell_type": "code",
   "execution_count": 22,
   "id": "b86c2990-25a0-4174-a462-becc252e9f4d",
   "metadata": {},
   "outputs": [
    {
     "name": "stdout",
     "output_type": "stream",
     "text": [
      "<class 'pandas.core.frame.DataFrame'>\n",
      "RangeIndex: 2075259 entries, 0 to 2075258\n",
      "Data columns (total 2 columns):\n",
      " #   Column     Dtype         \n",
      "---  ------     -----         \n",
      " 0   Date       datetime64[ns]\n",
      " 1   app_power  float64       \n",
      "dtypes: datetime64[ns](1), float64(1)\n",
      "memory usage: 31.7 MB\n"
     ]
    }
   ],
   "source": [
    "new_df.info()"
   ]
  },
  {
   "cell_type": "code",
   "execution_count": 23,
   "id": "52b24032-0ebf-4ead-976e-877fc0a3281e",
   "metadata": {},
   "outputs": [
    {
     "data": {
      "text/html": [
       "<div>\n",
       "<style scoped>\n",
       "    .dataframe tbody tr th:only-of-type {\n",
       "        vertical-align: middle;\n",
       "    }\n",
       "\n",
       "    .dataframe tbody tr th {\n",
       "        vertical-align: top;\n",
       "    }\n",
       "\n",
       "    .dataframe thead th {\n",
       "        text-align: right;\n",
       "    }\n",
       "</style>\n",
       "<table border=\"1\" class=\"dataframe\">\n",
       "  <thead>\n",
       "    <tr style=\"text-align: right;\">\n",
       "      <th></th>\n",
       "      <th>Date</th>\n",
       "      <th>app_power</th>\n",
       "    </tr>\n",
       "  </thead>\n",
       "  <tbody>\n",
       "    <tr>\n",
       "      <th>0</th>\n",
       "      <td>2006-12-16</td>\n",
       "      <td>4.236671</td>\n",
       "    </tr>\n",
       "    <tr>\n",
       "      <th>1</th>\n",
       "      <td>2006-12-16</td>\n",
       "      <td>5.377704</td>\n",
       "    </tr>\n",
       "    <tr>\n",
       "      <th>2</th>\n",
       "      <td>2006-12-16</td>\n",
       "      <td>5.397025</td>\n",
       "    </tr>\n",
       "    <tr>\n",
       "      <th>3</th>\n",
       "      <td>2006-12-16</td>\n",
       "      <td>5.411335</td>\n",
       "    </tr>\n",
       "    <tr>\n",
       "      <th>4</th>\n",
       "      <td>2006-12-16</td>\n",
       "      <td>3.703828</td>\n",
       "    </tr>\n",
       "  </tbody>\n",
       "</table>\n",
       "</div>"
      ],
      "text/plain": [
       "        Date  app_power\n",
       "0 2006-12-16   4.236671\n",
       "1 2006-12-16   5.377704\n",
       "2 2006-12-16   5.397025\n",
       "3 2006-12-16   5.411335\n",
       "4 2006-12-16   3.703828"
      ]
     },
     "execution_count": 23,
     "metadata": {},
     "output_type": "execute_result"
    }
   ],
   "source": [
    "new_df.head()"
   ]
  },
  {
   "cell_type": "code",
   "execution_count": 24,
   "id": "f41dc8e6-bcf5-4d9b-9a56-e46be67b7d5d",
   "metadata": {},
   "outputs": [],
   "source": [
    "# Save new_df as a Feather file\n",
    "new_df.to_feather('new_df.feather')"
   ]
  },
  {
   "cell_type": "markdown",
   "id": "e5eb7073-2a93-4f95-803e-f30d87b9cd5f",
   "metadata": {},
   "source": [
    "\n",
    "##### Now we will clean the temperature dataset and merge the data with new_df\n"
   ]
  },
  {
   "cell_type": "code",
   "execution_count": 26,
   "id": "043be563-377c-4c86-8b76-bc6a54542fdc",
   "metadata": {},
   "outputs": [],
   "source": [
    "temp_df = pd.read_csv('TG_STAID021582.txt', skipinitialspace=True) # dataset has some spaces after commas"
   ]
  },
  {
   "cell_type": "code",
   "execution_count": 27,
   "id": "58b9618f-dd8d-4755-9b72-db0606641ed5",
   "metadata": {},
   "outputs": [
    {
     "data": {
      "text/html": [
       "<div>\n",
       "<style scoped>\n",
       "    .dataframe tbody tr th:only-of-type {\n",
       "        vertical-align: middle;\n",
       "    }\n",
       "\n",
       "    .dataframe tbody tr th {\n",
       "        vertical-align: top;\n",
       "    }\n",
       "\n",
       "    .dataframe thead th {\n",
       "        text-align: right;\n",
       "    }\n",
       "</style>\n",
       "<table border=\"1\" class=\"dataframe\">\n",
       "  <thead>\n",
       "    <tr style=\"text-align: right;\">\n",
       "      <th></th>\n",
       "      <th>SOUID</th>\n",
       "      <th>DATE</th>\n",
       "      <th>TG</th>\n",
       "      <th>Q_TG</th>\n",
       "    </tr>\n",
       "  </thead>\n",
       "  <tbody>\n",
       "    <tr>\n",
       "      <th>0</th>\n",
       "      <td>260524</td>\n",
       "      <td>19000101</td>\n",
       "      <td>76</td>\n",
       "      <td>0</td>\n",
       "    </tr>\n",
       "    <tr>\n",
       "      <th>1</th>\n",
       "      <td>260524</td>\n",
       "      <td>19000102</td>\n",
       "      <td>101</td>\n",
       "      <td>0</td>\n",
       "    </tr>\n",
       "    <tr>\n",
       "      <th>2</th>\n",
       "      <td>260524</td>\n",
       "      <td>19000103</td>\n",
       "      <td>79</td>\n",
       "      <td>0</td>\n",
       "    </tr>\n",
       "    <tr>\n",
       "      <th>3</th>\n",
       "      <td>260524</td>\n",
       "      <td>19000104</td>\n",
       "      <td>70</td>\n",
       "      <td>0</td>\n",
       "    </tr>\n",
       "    <tr>\n",
       "      <th>4</th>\n",
       "      <td>260524</td>\n",
       "      <td>19000105</td>\n",
       "      <td>45</td>\n",
       "      <td>0</td>\n",
       "    </tr>\n",
       "  </tbody>\n",
       "</table>\n",
       "</div>"
      ],
      "text/plain": [
       "    SOUID      DATE   TG  Q_TG\n",
       "0  260524  19000101   76     0\n",
       "1  260524  19000102  101     0\n",
       "2  260524  19000103   79     0\n",
       "3  260524  19000104   70     0\n",
       "4  260524  19000105   45     0"
      ]
     },
     "execution_count": 27,
     "metadata": {},
     "output_type": "execute_result"
    }
   ],
   "source": [
    "temp_df.head()"
   ]
  },
  {
   "cell_type": "code",
   "execution_count": 28,
   "id": "2d303148-cb20-4cba-b3a9-6e8d58cd2857",
   "metadata": {},
   "outputs": [
    {
     "name": "stdout",
     "output_type": "stream",
     "text": [
      "<class 'pandas.core.frame.DataFrame'>\n",
      "RangeIndex: 45595 entries, 0 to 45594\n",
      "Data columns (total 4 columns):\n",
      " #   Column  Non-Null Count  Dtype\n",
      "---  ------  --------------  -----\n",
      " 0   SOUID   45595 non-null  int64\n",
      " 1   DATE    45595 non-null  int64\n",
      " 2   TG      45595 non-null  int64\n",
      " 3   Q_TG    45595 non-null  int64\n",
      "dtypes: int64(4)\n",
      "memory usage: 1.4 MB\n"
     ]
    }
   ],
   "source": [
    "temp_df.info()"
   ]
  },
  {
   "cell_type": "markdown",
   "id": "6ac7d5ff-aa05-4ad9-a587-78af00bac36f",
   "metadata": {},
   "source": [
    "\n",
    "##### Form the 'DATE' values so they can be detected by pandas as datetime type.\n"
   ]
  },
  {
   "cell_type": "code",
   "execution_count": 30,
   "id": "19fa5b35-2dbe-4949-a8bc-15b579d5beb4",
   "metadata": {},
   "outputs": [],
   "source": [
    "temp_df['DATE'] = pd.to_datetime(temp_df['DATE'], format='%Y%m%d')"
   ]
  },
  {
   "cell_type": "code",
   "execution_count": 31,
   "id": "b2bde9da-800d-47b8-8451-606152ab4a29",
   "metadata": {},
   "outputs": [
    {
     "data": {
      "text/html": [
       "<div>\n",
       "<style scoped>\n",
       "    .dataframe tbody tr th:only-of-type {\n",
       "        vertical-align: middle;\n",
       "    }\n",
       "\n",
       "    .dataframe tbody tr th {\n",
       "        vertical-align: top;\n",
       "    }\n",
       "\n",
       "    .dataframe thead th {\n",
       "        text-align: right;\n",
       "    }\n",
       "</style>\n",
       "<table border=\"1\" class=\"dataframe\">\n",
       "  <thead>\n",
       "    <tr style=\"text-align: right;\">\n",
       "      <th></th>\n",
       "      <th>SOUID</th>\n",
       "      <th>DATE</th>\n",
       "      <th>TG</th>\n",
       "      <th>Q_TG</th>\n",
       "    </tr>\n",
       "  </thead>\n",
       "  <tbody>\n",
       "    <tr>\n",
       "      <th>0</th>\n",
       "      <td>260524</td>\n",
       "      <td>1900-01-01</td>\n",
       "      <td>76</td>\n",
       "      <td>0</td>\n",
       "    </tr>\n",
       "    <tr>\n",
       "      <th>1</th>\n",
       "      <td>260524</td>\n",
       "      <td>1900-01-02</td>\n",
       "      <td>101</td>\n",
       "      <td>0</td>\n",
       "    </tr>\n",
       "    <tr>\n",
       "      <th>2</th>\n",
       "      <td>260524</td>\n",
       "      <td>1900-01-03</td>\n",
       "      <td>79</td>\n",
       "      <td>0</td>\n",
       "    </tr>\n",
       "    <tr>\n",
       "      <th>3</th>\n",
       "      <td>260524</td>\n",
       "      <td>1900-01-04</td>\n",
       "      <td>70</td>\n",
       "      <td>0</td>\n",
       "    </tr>\n",
       "    <tr>\n",
       "      <th>4</th>\n",
       "      <td>260524</td>\n",
       "      <td>1900-01-05</td>\n",
       "      <td>45</td>\n",
       "      <td>0</td>\n",
       "    </tr>\n",
       "  </tbody>\n",
       "</table>\n",
       "</div>"
      ],
      "text/plain": [
       "    SOUID       DATE   TG  Q_TG\n",
       "0  260524 1900-01-01   76     0\n",
       "1  260524 1900-01-02  101     0\n",
       "2  260524 1900-01-03   79     0\n",
       "3  260524 1900-01-04   70     0\n",
       "4  260524 1900-01-05   45     0"
      ]
     },
     "execution_count": 31,
     "metadata": {},
     "output_type": "execute_result"
    }
   ],
   "source": [
    "temp_df.head()"
   ]
  },
  {
   "cell_type": "code",
   "execution_count": 32,
   "id": "01cc077d-84bd-4a57-b745-e5953c2b6065",
   "metadata": {},
   "outputs": [
    {
     "name": "stdout",
     "output_type": "stream",
     "text": [
      "<class 'pandas.core.frame.DataFrame'>\n",
      "RangeIndex: 45595 entries, 0 to 45594\n",
      "Data columns (total 4 columns):\n",
      " #   Column  Non-Null Count  Dtype         \n",
      "---  ------  --------------  -----         \n",
      " 0   SOUID   45595 non-null  int64         \n",
      " 1   DATE    45595 non-null  datetime64[ns]\n",
      " 2   TG      45595 non-null  int64         \n",
      " 3   Q_TG    45595 non-null  int64         \n",
      "dtypes: datetime64[ns](1), int64(3)\n",
      "memory usage: 1.4 MB\n"
     ]
    }
   ],
   "source": [
    "temp_df.info()"
   ]
  },
  {
   "cell_type": "markdown",
   "id": "32292a76-8680-4452-a331-c8b4bb5c7371",
   "metadata": {},
   "source": [
    "\n",
    "##### The TG column contains the temperature reading in Celsius, but it is multiplied by ten to get rid of decimals. We will multiply that value by 10 to get the actual Celsius reading and convert it to Fahrenheit.\n"
   ]
  },
  {
   "cell_type": "code",
   "execution_count": 33,
   "id": "ff2b04e7-3c27-4489-96fd-42c27f50951d",
   "metadata": {},
   "outputs": [],
   "source": [
    "# Convert 'TG' from tenths of Celsius to Celsius\n",
    "temp_df['Celsius'] = temp_df['TG'] * 0.1\n",
    "\n",
    "# Convert Celsius to Fahrenheit and store in a new column 'temp'\n",
    "temp_df['temp'] = (temp_df['Celsius'] * 1.8) + 32\n",
    "\n",
    "# Drop the intermediate 'Celsius' column\n",
    "temp_df.drop(columns=['Celsius'], inplace=True)"
   ]
  },
  {
   "cell_type": "code",
   "execution_count": 34,
   "id": "5a3a54ca-dd61-48a1-89fd-c9c47f7ddf66",
   "metadata": {},
   "outputs": [
    {
     "data": {
      "text/html": [
       "<div>\n",
       "<style scoped>\n",
       "    .dataframe tbody tr th:only-of-type {\n",
       "        vertical-align: middle;\n",
       "    }\n",
       "\n",
       "    .dataframe tbody tr th {\n",
       "        vertical-align: top;\n",
       "    }\n",
       "\n",
       "    .dataframe thead th {\n",
       "        text-align: right;\n",
       "    }\n",
       "</style>\n",
       "<table border=\"1\" class=\"dataframe\">\n",
       "  <thead>\n",
       "    <tr style=\"text-align: right;\">\n",
       "      <th></th>\n",
       "      <th>SOUID</th>\n",
       "      <th>DATE</th>\n",
       "      <th>TG</th>\n",
       "      <th>Q_TG</th>\n",
       "      <th>temp</th>\n",
       "    </tr>\n",
       "  </thead>\n",
       "  <tbody>\n",
       "    <tr>\n",
       "      <th>0</th>\n",
       "      <td>260524</td>\n",
       "      <td>1900-01-01</td>\n",
       "      <td>76</td>\n",
       "      <td>0</td>\n",
       "      <td>45.68</td>\n",
       "    </tr>\n",
       "    <tr>\n",
       "      <th>1</th>\n",
       "      <td>260524</td>\n",
       "      <td>1900-01-02</td>\n",
       "      <td>101</td>\n",
       "      <td>0</td>\n",
       "      <td>50.18</td>\n",
       "    </tr>\n",
       "    <tr>\n",
       "      <th>2</th>\n",
       "      <td>260524</td>\n",
       "      <td>1900-01-03</td>\n",
       "      <td>79</td>\n",
       "      <td>0</td>\n",
       "      <td>46.22</td>\n",
       "    </tr>\n",
       "    <tr>\n",
       "      <th>3</th>\n",
       "      <td>260524</td>\n",
       "      <td>1900-01-04</td>\n",
       "      <td>70</td>\n",
       "      <td>0</td>\n",
       "      <td>44.60</td>\n",
       "    </tr>\n",
       "    <tr>\n",
       "      <th>4</th>\n",
       "      <td>260524</td>\n",
       "      <td>1900-01-05</td>\n",
       "      <td>45</td>\n",
       "      <td>0</td>\n",
       "      <td>40.10</td>\n",
       "    </tr>\n",
       "  </tbody>\n",
       "</table>\n",
       "</div>"
      ],
      "text/plain": [
       "    SOUID       DATE   TG  Q_TG   temp\n",
       "0  260524 1900-01-01   76     0  45.68\n",
       "1  260524 1900-01-02  101     0  50.18\n",
       "2  260524 1900-01-03   79     0  46.22\n",
       "3  260524 1900-01-04   70     0  44.60\n",
       "4  260524 1900-01-05   45     0  40.10"
      ]
     },
     "execution_count": 34,
     "metadata": {},
     "output_type": "execute_result"
    }
   ],
   "source": [
    "temp_df.head()"
   ]
  },
  {
   "cell_type": "markdown",
   "id": "8aca0e73-5074-441b-b640-f94b016d7569",
   "metadata": {},
   "source": [
    "\n",
    "##### Now let's drop the SOUID, TG, and Q_TG columns.\n"
   ]
  },
  {
   "cell_type": "code",
   "execution_count": 35,
   "id": "67ac2de4-32ec-4e8e-80d1-574bd0a8ed39",
   "metadata": {},
   "outputs": [],
   "source": [
    "temp_df.drop(columns=['SOUID', 'TG', 'Q_TG'], inplace=True)"
   ]
  },
  {
   "cell_type": "code",
   "execution_count": 36,
   "id": "edaa58c3-7743-498d-923d-9dee29123f5f",
   "metadata": {},
   "outputs": [
    {
     "data": {
      "text/html": [
       "<div>\n",
       "<style scoped>\n",
       "    .dataframe tbody tr th:only-of-type {\n",
       "        vertical-align: middle;\n",
       "    }\n",
       "\n",
       "    .dataframe tbody tr th {\n",
       "        vertical-align: top;\n",
       "    }\n",
       "\n",
       "    .dataframe thead th {\n",
       "        text-align: right;\n",
       "    }\n",
       "</style>\n",
       "<table border=\"1\" class=\"dataframe\">\n",
       "  <thead>\n",
       "    <tr style=\"text-align: right;\">\n",
       "      <th></th>\n",
       "      <th>DATE</th>\n",
       "      <th>temp</th>\n",
       "    </tr>\n",
       "  </thead>\n",
       "  <tbody>\n",
       "    <tr>\n",
       "      <th>0</th>\n",
       "      <td>1900-01-01</td>\n",
       "      <td>45.68</td>\n",
       "    </tr>\n",
       "    <tr>\n",
       "      <th>1</th>\n",
       "      <td>1900-01-02</td>\n",
       "      <td>50.18</td>\n",
       "    </tr>\n",
       "    <tr>\n",
       "      <th>2</th>\n",
       "      <td>1900-01-03</td>\n",
       "      <td>46.22</td>\n",
       "    </tr>\n",
       "    <tr>\n",
       "      <th>3</th>\n",
       "      <td>1900-01-04</td>\n",
       "      <td>44.60</td>\n",
       "    </tr>\n",
       "    <tr>\n",
       "      <th>4</th>\n",
       "      <td>1900-01-05</td>\n",
       "      <td>40.10</td>\n",
       "    </tr>\n",
       "  </tbody>\n",
       "</table>\n",
       "</div>"
      ],
      "text/plain": [
       "        DATE   temp\n",
       "0 1900-01-01  45.68\n",
       "1 1900-01-02  50.18\n",
       "2 1900-01-03  46.22\n",
       "3 1900-01-04  44.60\n",
       "4 1900-01-05  40.10"
      ]
     },
     "execution_count": 36,
     "metadata": {},
     "output_type": "execute_result"
    }
   ],
   "source": [
    "temp_df.head()"
   ]
  },
  {
   "cell_type": "code",
   "execution_count": 37,
   "id": "6591de1f-6777-4a07-9db2-2c07dba9a052",
   "metadata": {},
   "outputs": [
    {
     "name": "stdout",
     "output_type": "stream",
     "text": [
      "<class 'pandas.core.frame.DataFrame'>\n",
      "RangeIndex: 45595 entries, 0 to 45594\n",
      "Data columns (total 2 columns):\n",
      " #   Column  Non-Null Count  Dtype         \n",
      "---  ------  --------------  -----         \n",
      " 0   DATE    45595 non-null  datetime64[ns]\n",
      " 1   temp    45595 non-null  float64       \n",
      "dtypes: datetime64[ns](1), float64(1)\n",
      "memory usage: 712.6 KB\n"
     ]
    }
   ],
   "source": [
    "temp_df.info()"
   ]
  },
  {
   "cell_type": "code",
   "execution_count": 38,
   "id": "5a6e3e97-86b3-4279-a91e-20aff3cc72dd",
   "metadata": {},
   "outputs": [],
   "source": [
    "# Save the DataFrame to a Feather file\n",
    "temp_df.to_feather('temp_df.feather')"
   ]
  },
  {
   "cell_type": "code",
   "execution_count": 39,
   "id": "eaf9dafa-ec28-46ea-b4a3-1965b30fed52",
   "metadata": {},
   "outputs": [
    {
     "data": {
      "text/html": [
       "<div>\n",
       "<style scoped>\n",
       "    .dataframe tbody tr th:only-of-type {\n",
       "        vertical-align: middle;\n",
       "    }\n",
       "\n",
       "    .dataframe tbody tr th {\n",
       "        vertical-align: top;\n",
       "    }\n",
       "\n",
       "    .dataframe thead th {\n",
       "        text-align: right;\n",
       "    }\n",
       "</style>\n",
       "<table border=\"1\" class=\"dataframe\">\n",
       "  <thead>\n",
       "    <tr style=\"text-align: right;\">\n",
       "      <th></th>\n",
       "      <th>Date</th>\n",
       "      <th>app_power</th>\n",
       "    </tr>\n",
       "  </thead>\n",
       "  <tbody>\n",
       "    <tr>\n",
       "      <th>0</th>\n",
       "      <td>2006-12-16</td>\n",
       "      <td>4.236671</td>\n",
       "    </tr>\n",
       "    <tr>\n",
       "      <th>1</th>\n",
       "      <td>2006-12-16</td>\n",
       "      <td>5.377704</td>\n",
       "    </tr>\n",
       "    <tr>\n",
       "      <th>2</th>\n",
       "      <td>2006-12-16</td>\n",
       "      <td>5.397025</td>\n",
       "    </tr>\n",
       "    <tr>\n",
       "      <th>3</th>\n",
       "      <td>2006-12-16</td>\n",
       "      <td>5.411335</td>\n",
       "    </tr>\n",
       "    <tr>\n",
       "      <th>4</th>\n",
       "      <td>2006-12-16</td>\n",
       "      <td>3.703828</td>\n",
       "    </tr>\n",
       "  </tbody>\n",
       "</table>\n",
       "</div>"
      ],
      "text/plain": [
       "        Date  app_power\n",
       "0 2006-12-16   4.236671\n",
       "1 2006-12-16   5.377704\n",
       "2 2006-12-16   5.397025\n",
       "3 2006-12-16   5.411335\n",
       "4 2006-12-16   3.703828"
      ]
     },
     "execution_count": 39,
     "metadata": {},
     "output_type": "execute_result"
    }
   ],
   "source": [
    "new_df.head()"
   ]
  },
  {
   "cell_type": "code",
   "execution_count": 40,
   "id": "9a095306-825f-43df-b646-147674147a83",
   "metadata": {},
   "outputs": [
    {
     "data": {
      "text/html": [
       "<div>\n",
       "<style scoped>\n",
       "    .dataframe tbody tr th:only-of-type {\n",
       "        vertical-align: middle;\n",
       "    }\n",
       "\n",
       "    .dataframe tbody tr th {\n",
       "        vertical-align: top;\n",
       "    }\n",
       "\n",
       "    .dataframe thead th {\n",
       "        text-align: right;\n",
       "    }\n",
       "</style>\n",
       "<table border=\"1\" class=\"dataframe\">\n",
       "  <thead>\n",
       "    <tr style=\"text-align: right;\">\n",
       "      <th></th>\n",
       "      <th>Date</th>\n",
       "      <th>app_power</th>\n",
       "    </tr>\n",
       "  </thead>\n",
       "  <tbody>\n",
       "    <tr>\n",
       "      <th>2075254</th>\n",
       "      <td>2010-11-26</td>\n",
       "      <td>0.946</td>\n",
       "    </tr>\n",
       "    <tr>\n",
       "      <th>2075255</th>\n",
       "      <td>2010-11-26</td>\n",
       "      <td>0.944</td>\n",
       "    </tr>\n",
       "    <tr>\n",
       "      <th>2075256</th>\n",
       "      <td>2010-11-26</td>\n",
       "      <td>0.938</td>\n",
       "    </tr>\n",
       "    <tr>\n",
       "      <th>2075257</th>\n",
       "      <td>2010-11-26</td>\n",
       "      <td>0.934</td>\n",
       "    </tr>\n",
       "    <tr>\n",
       "      <th>2075258</th>\n",
       "      <td>2010-11-26</td>\n",
       "      <td>0.932</td>\n",
       "    </tr>\n",
       "  </tbody>\n",
       "</table>\n",
       "</div>"
      ],
      "text/plain": [
       "              Date  app_power\n",
       "2075254 2010-11-26      0.946\n",
       "2075255 2010-11-26      0.944\n",
       "2075256 2010-11-26      0.938\n",
       "2075257 2010-11-26      0.934\n",
       "2075258 2010-11-26      0.932"
      ]
     },
     "execution_count": 40,
     "metadata": {},
     "output_type": "execute_result"
    }
   ],
   "source": [
    "new_df.tail()"
   ]
  },
  {
   "cell_type": "markdown",
   "id": "309790b7-d343-441a-ab39-c9b28e021d0a",
   "metadata": {},
   "source": [
    "\n",
    "##### Let's merge the temp column into our dataset\n"
   ]
  },
  {
   "cell_type": "code",
   "execution_count": 41,
   "id": "eb4c8d71-5fba-4d78-b114-e49ec1ae2880",
   "metadata": {},
   "outputs": [],
   "source": [
    "# Merge the 'temp' column from temp_df into new_df using 'DATE' and 'Date' as keys\n",
    "merged_df = pd.merge(new_df, temp_df[['DATE', 'temp']], \n",
    "                     left_on='Date', right_on='DATE', how='inner')\n",
    "\n",
    "# Drop the extra 'DATE' column\n",
    "merged_df.drop(columns=['DATE'], inplace=True)"
   ]
  },
  {
   "cell_type": "code",
   "execution_count": 42,
   "id": "9315d917-fe5d-4759-ba65-298a2cac2456",
   "metadata": {},
   "outputs": [
    {
     "data": {
      "text/html": [
       "<div>\n",
       "<style scoped>\n",
       "    .dataframe tbody tr th:only-of-type {\n",
       "        vertical-align: middle;\n",
       "    }\n",
       "\n",
       "    .dataframe tbody tr th {\n",
       "        vertical-align: top;\n",
       "    }\n",
       "\n",
       "    .dataframe thead th {\n",
       "        text-align: right;\n",
       "    }\n",
       "</style>\n",
       "<table border=\"1\" class=\"dataframe\">\n",
       "  <thead>\n",
       "    <tr style=\"text-align: right;\">\n",
       "      <th></th>\n",
       "      <th>Date</th>\n",
       "      <th>app_power</th>\n",
       "      <th>temp</th>\n",
       "    </tr>\n",
       "  </thead>\n",
       "  <tbody>\n",
       "    <tr>\n",
       "      <th>0</th>\n",
       "      <td>2006-12-16</td>\n",
       "      <td>4.236671</td>\n",
       "      <td>42.98</td>\n",
       "    </tr>\n",
       "    <tr>\n",
       "      <th>1</th>\n",
       "      <td>2006-12-16</td>\n",
       "      <td>5.377704</td>\n",
       "      <td>42.98</td>\n",
       "    </tr>\n",
       "    <tr>\n",
       "      <th>2</th>\n",
       "      <td>2006-12-16</td>\n",
       "      <td>5.397025</td>\n",
       "      <td>42.98</td>\n",
       "    </tr>\n",
       "    <tr>\n",
       "      <th>3</th>\n",
       "      <td>2006-12-16</td>\n",
       "      <td>5.411335</td>\n",
       "      <td>42.98</td>\n",
       "    </tr>\n",
       "    <tr>\n",
       "      <th>4</th>\n",
       "      <td>2006-12-16</td>\n",
       "      <td>3.703828</td>\n",
       "      <td>42.98</td>\n",
       "    </tr>\n",
       "  </tbody>\n",
       "</table>\n",
       "</div>"
      ],
      "text/plain": [
       "        Date  app_power   temp\n",
       "0 2006-12-16   4.236671  42.98\n",
       "1 2006-12-16   5.377704  42.98\n",
       "2 2006-12-16   5.397025  42.98\n",
       "3 2006-12-16   5.411335  42.98\n",
       "4 2006-12-16   3.703828  42.98"
      ]
     },
     "execution_count": 42,
     "metadata": {},
     "output_type": "execute_result"
    }
   ],
   "source": [
    "merged_df.head()"
   ]
  },
  {
   "cell_type": "code",
   "execution_count": 43,
   "id": "0358466e-4bb6-42b9-b374-ea39250badb5",
   "metadata": {},
   "outputs": [
    {
     "name": "stdout",
     "output_type": "stream",
     "text": [
      "<class 'pandas.core.frame.DataFrame'>\n",
      "RangeIndex: 2075259 entries, 0 to 2075258\n",
      "Data columns (total 3 columns):\n",
      " #   Column     Dtype         \n",
      "---  ------     -----         \n",
      " 0   Date       datetime64[ns]\n",
      " 1   app_power  float64       \n",
      " 2   temp       float64       \n",
      "dtypes: datetime64[ns](1), float64(2)\n",
      "memory usage: 47.5 MB\n"
     ]
    }
   ],
   "source": [
    "merged_df.info()"
   ]
  },
  {
   "cell_type": "code",
   "execution_count": 44,
   "id": "8e9632e7-1c26-4797-befd-5fa5ec4bc186",
   "metadata": {},
   "outputs": [],
   "source": [
    "# Save the DataFrame to a Feather file\n",
    "merged_df.to_feather('merged_df.feather')"
   ]
  },
  {
   "cell_type": "markdown",
   "id": "e5bb3816-590b-471c-9ff3-6fec705a22d8",
   "metadata": {},
   "source": [
    "\n",
    "##### Now we will add the app_power to get total for each day.\n"
   ]
  },
  {
   "cell_type": "code",
   "execution_count": 45,
   "id": "196fe347-7fdf-473d-a01f-10d8c4fea1b3",
   "metadata": {},
   "outputs": [],
   "source": [
    "# Group by 'Date' and aggregate the columns\n",
    "grouped_df = merged_df.groupby('Date', as_index=False).agg({\n",
    "    'app_power': 'sum',  # Sum the app_power values for each Date\n",
    "    'temp': 'first'      # Take the first (or any, since they are the same) temp value for each Date\n",
    "})"
   ]
  },
  {
   "cell_type": "code",
   "execution_count": 46,
   "id": "5e54f21a-2ca6-42db-b2d3-04030acbf83e",
   "metadata": {},
   "outputs": [
    {
     "data": {
      "text/html": [
       "<div>\n",
       "<style scoped>\n",
       "    .dataframe tbody tr th:only-of-type {\n",
       "        vertical-align: middle;\n",
       "    }\n",
       "\n",
       "    .dataframe tbody tr th {\n",
       "        vertical-align: top;\n",
       "    }\n",
       "\n",
       "    .dataframe thead th {\n",
       "        text-align: right;\n",
       "    }\n",
       "</style>\n",
       "<table border=\"1\" class=\"dataframe\">\n",
       "  <thead>\n",
       "    <tr style=\"text-align: right;\">\n",
       "      <th></th>\n",
       "      <th>Date</th>\n",
       "      <th>app_power</th>\n",
       "      <th>temp</th>\n",
       "    </tr>\n",
       "  </thead>\n",
       "  <tbody>\n",
       "    <tr>\n",
       "      <th>0</th>\n",
       "      <td>2006-12-16</td>\n",
       "      <td>1210.250117</td>\n",
       "      <td>42.98</td>\n",
       "    </tr>\n",
       "    <tr>\n",
       "      <th>1</th>\n",
       "      <td>2006-12-17</td>\n",
       "      <td>3406.467166</td>\n",
       "      <td>40.10</td>\n",
       "    </tr>\n",
       "    <tr>\n",
       "      <th>2</th>\n",
       "      <td>2006-12-18</td>\n",
       "      <td>2222.018835</td>\n",
       "      <td>39.92</td>\n",
       "    </tr>\n",
       "    <tr>\n",
       "      <th>3</th>\n",
       "      <td>2006-12-19</td>\n",
       "      <td>1685.781483</td>\n",
       "      <td>36.68</td>\n",
       "    </tr>\n",
       "    <tr>\n",
       "      <th>4</th>\n",
       "      <td>2006-12-20</td>\n",
       "      <td>2241.770383</td>\n",
       "      <td>37.40</td>\n",
       "    </tr>\n",
       "  </tbody>\n",
       "</table>\n",
       "</div>"
      ],
      "text/plain": [
       "        Date    app_power   temp\n",
       "0 2006-12-16  1210.250117  42.98\n",
       "1 2006-12-17  3406.467166  40.10\n",
       "2 2006-12-18  2222.018835  39.92\n",
       "3 2006-12-19  1685.781483  36.68\n",
       "4 2006-12-20  2241.770383  37.40"
      ]
     },
     "execution_count": 46,
     "metadata": {},
     "output_type": "execute_result"
    }
   ],
   "source": [
    "grouped_df.head()"
   ]
  },
  {
   "cell_type": "code",
   "execution_count": 47,
   "id": "67163247-f5eb-4df4-b82b-8eab86514aac",
   "metadata": {},
   "outputs": [],
   "source": [
    "grouped_df.to_feather('dataset.feather')"
   ]
  },
  {
   "cell_type": "code",
   "execution_count": 48,
   "id": "56c2f0c6-7cae-4af4-8775-7996c0d04e46",
   "metadata": {},
   "outputs": [
    {
     "name": "stdout",
     "output_type": "stream",
     "text": [
      "<class 'pandas.core.frame.DataFrame'>\n",
      "RangeIndex: 1442 entries, 0 to 1441\n",
      "Data columns (total 3 columns):\n",
      " #   Column     Non-Null Count  Dtype         \n",
      "---  ------     --------------  -----         \n",
      " 0   Date       1442 non-null   datetime64[ns]\n",
      " 1   app_power  1442 non-null   float64       \n",
      " 2   temp       1442 non-null   float64       \n",
      "dtypes: datetime64[ns](1), float64(2)\n",
      "memory usage: 33.9 KB\n"
     ]
    }
   ],
   "source": [
    "grouped_df.info()"
   ]
  },
  {
   "cell_type": "code",
   "execution_count": 49,
   "id": "ea0601f5-8271-49f8-8bf6-b0a2e1644e77",
   "metadata": {},
   "outputs": [],
   "source": [
    "grouped_df.to_csv('dataset.csv', index=False)"
   ]
  },
  {
   "cell_type": "markdown",
   "id": "a86055d2-259d-473c-b798-bf3fed3ea9af",
   "metadata": {},
   "source": [
    "\n",
    "##### I have decided we should include the 'Sub_metering_#' columns, but according to isnull().sum() Sub_metering_3' has 25979 null values. But according to the dataset website it should contain no missing data. Let's check it out.\n"
   ]
  },
  {
   "cell_type": "code",
   "execution_count": 5,
   "id": "b4a3fe99-ae1e-44b9-b6a5-ccca277b9aa5",
   "metadata": {},
   "outputs": [],
   "source": [
    "df = pd.read_csv(\"household_power_consumption.txt\", sep=\";\", na_values=[\"\", \" \", \"NA\"], low_memory=False)"
   ]
  },
  {
   "cell_type": "code",
   "execution_count": 6,
   "id": "316869ca-7454-4c0a-bb8c-a52eeb4de619",
   "metadata": {},
   "outputs": [
    {
     "name": "stdout",
     "output_type": "stream",
     "text": [
      "0    17.0\n",
      "1    16.0\n",
      "2    17.0\n",
      "3    17.0\n",
      "4    17.0\n",
      "5    17.0\n",
      "6    17.0\n",
      "7    17.0\n",
      "8    17.0\n",
      "9    16.0\n",
      "Name: Sub_metering_3, dtype: float64\n"
     ]
    }
   ],
   "source": [
    "print(df[\"Sub_metering_3\"].head(10))"
   ]
  },
  {
   "cell_type": "code",
   "execution_count": 7,
   "id": "4abef3f3-1a94-49fd-b248-b4b76f171dfa",
   "metadata": {},
   "outputs": [
    {
     "name": "stdout",
     "output_type": "stream",
     "text": [
      "[17. 16. 18.  9.  0.  5. 19. 10. 20.  8.  4.  2.  3. 11. 13.  6. 15. nan\n",
      " 12.  1. 14.  7. 23. 25. 26. 28. 27. 21. 22. 29. 24. 30. 31.]\n"
     ]
    }
   ],
   "source": [
    "print(df[\"Sub_metering_3\"].unique())"
   ]
  },
  {
   "cell_type": "code",
   "execution_count": 8,
   "id": "5abc330f-a0fb-497e-9083-6cf30f3dc736",
   "metadata": {},
   "outputs": [
    {
     "name": "stdout",
     "output_type": "stream",
     "text": [
      "<class 'pandas.core.frame.DataFrame'>\n",
      "RangeIndex: 2075259 entries, 0 to 2075258\n",
      "Data columns (total 9 columns):\n",
      " #   Column                 Dtype  \n",
      "---  ------                 -----  \n",
      " 0   Date                   object \n",
      " 1   Time                   object \n",
      " 2   Global_active_power    object \n",
      " 3   Global_reactive_power  object \n",
      " 4   Voltage                object \n",
      " 5   Global_intensity       object \n",
      " 6   Sub_metering_1         object \n",
      " 7   Sub_metering_2         object \n",
      " 8   Sub_metering_3         float64\n",
      "dtypes: float64(1), object(8)\n",
      "memory usage: 142.5+ MB\n"
     ]
    }
   ],
   "source": [
    "df.info()"
   ]
  },
  {
   "cell_type": "code",
   "execution_count": 9,
   "id": "797d0579-a093-427f-a9de-ad50fbd83468",
   "metadata": {},
   "outputs": [
    {
     "name": "stdout",
     "output_type": "stream",
     "text": [
      "['1.000' '2.000' '0.000' '16.000' '37.000' '36.000' '22.000' '12.000'\n",
      " '27.000' '20.000' '9.000' '4.000' '3.000' '5.000' '13.000' '35.000'\n",
      " '28.000' '26.000' '24.000' '21.000' '17.000' '33.000' '25.000' '23.000'\n",
      " '18.000' '30.000' '31.000' '7.000' '38.000' '29.000' '50.000' '71.000'\n",
      " '59.000' '62.000' '70.000' '40.000' '34.000' '8.000' '15.000' '6.000'\n",
      " '32.000' '19.000' '14.000' '49.000' '72.000' '73.000' '61.000' '39.000'\n",
      " '42.000' '10.000' '56.000' '11.000' '?' '43.000' '67.000' '63.000'\n",
      " '53.000' '65.000' '52.000' '69.000' '48.000' '74.000' '41.000' '47.000'\n",
      " '58.000' '68.000' '64.000' '75.000' '46.000' '57.000' '60.000' '66.000'\n",
      " '44.000' '78.000' '77.000' '76.000' '51.000' '55.000' '45.000' '54.000'\n",
      " '79.000' '80.000']\n"
     ]
    }
   ],
   "source": [
    "print(df[\"Sub_metering_2\"].unique())"
   ]
  },
  {
   "cell_type": "code",
   "execution_count": 10,
   "id": "7e4cd8b1-f54b-4c18-a0c3-6522b1dccf28",
   "metadata": {},
   "outputs": [
    {
     "name": "stdout",
     "output_type": "stream",
     "text": [
      "['0.000' '1.000' '2.000' '6.000' '37.000' '36.000' '38.000' '25.000'\n",
      " '12.000' '11.000' '9.000' '4.000' '33.000' '5.000' '34.000' '8.000'\n",
      " '26.000' '27.000' '15.000' '20.000' '21.000' '23.000' '16.000' '10.000'\n",
      " '39.000' '32.000' '?' '19.000' '35.000' '30.000' '40.000' '7.000'\n",
      " '31.000' '17.000' '3.000' '29.000' '24.000' '14.000' '41.000' '53.000'\n",
      " '76.000' '75.000' '77.000' '74.000' '28.000' '68.000' '58.000' '62.000'\n",
      " '13.000' '18.000' '22.000' '64.000' '71.000' '56.000' '72.000' '45.000'\n",
      " '42.000' '59.000' '66.000' '43.000' '44.000' '48.000' '46.000' '73.000'\n",
      " '55.000' '60.000' '70.000' '63.000' '67.000' '47.000' '65.000' '51.000'\n",
      " '50.000' '69.000' '78.000' '57.000' '49.000' '61.000' '52.000' '54.000'\n",
      " '79.000' '80.000' '81.000' '82.000' '83.000' '84.000' '88.000' '86.000'\n",
      " '87.000']\n"
     ]
    }
   ],
   "source": [
    "print(df[\"Sub_metering_1\"].unique())"
   ]
  },
  {
   "cell_type": "code",
   "execution_count": 11,
   "id": "ce9eed26-103b-4f0f-8941-5f4b01ee0dfe",
   "metadata": {},
   "outputs": [],
   "source": [
    "# Replace '?' with np.nan\n",
    "df['Sub_metering_1'] = df['Sub_metering_1'].replace(\"?\", np.nan)\n",
    "df['Sub_metering_2'] = df['Sub_metering_2'].replace(\"?\", np.nan)"
   ]
  },
  {
   "cell_type": "code",
   "execution_count": 12,
   "id": "ae026d21-32fe-41e3-a84c-eb250cbb82a6",
   "metadata": {},
   "outputs": [],
   "source": [
    "# Convert to numeric, coercing errors to NaN\n",
    "df['Sub_metering_1'] = pd.to_numeric(df['Sub_metering_1'], errors=\"coerce\")\n",
    "df['Sub_metering_2'] = pd.to_numeric(df['Sub_metering_2'], errors=\"coerce\")\n",
    "df['Sub_metering_3'] = pd.to_numeric(df['Sub_metering_3'], errors=\"coerce\")  # Redundant, but ensures consistency"
   ]
  },
  {
   "cell_type": "code",
   "execution_count": 13,
   "id": "006e2dd8-33a5-4913-aa56-f17e927da647",
   "metadata": {},
   "outputs": [
    {
     "name": "stdout",
     "output_type": "stream",
     "text": [
      "Sub_metering_1    float64\n",
      "Sub_metering_2    float64\n",
      "Sub_metering_3    float64\n",
      "dtype: object\n"
     ]
    }
   ],
   "source": [
    "print(df[['Sub_metering_1', 'Sub_metering_2', 'Sub_metering_3']].dtypes)"
   ]
  },
  {
   "cell_type": "code",
   "execution_count": 14,
   "id": "b6d10c82-52a3-4dd4-aecf-cb5a323656d2",
   "metadata": {},
   "outputs": [
    {
     "name": "stdout",
     "output_type": "stream",
     "text": [
      "Sub_metering_1    25979\n",
      "Sub_metering_2    25979\n",
      "Sub_metering_3    25979\n",
      "dtype: int64\n"
     ]
    }
   ],
   "source": [
    "print(df[['Sub_metering_1', 'Sub_metering_2', 'Sub_metering_3']].isnull().sum())"
   ]
  },
  {
   "cell_type": "markdown",
   "id": "7452497e-abb6-4658-8388-240bfc09ed71",
   "metadata": {},
   "source": [
    "\n",
    "##### So while 25979 is a large number, the number of entries in the dataset is 2075259, a much larger number. I have decided to fill in the missing data.\n"
   ]
  },
  {
   "cell_type": "code",
   "execution_count": 15,
   "id": "bff0a59f-707f-4e2e-9c0e-f49d0f770e62",
   "metadata": {},
   "outputs": [
    {
     "name": "stdout",
     "output_type": "stream",
     "text": [
      "Sub_metering_3\n",
      "6839          2\n",
      "19722         2\n",
      "41828         1\n",
      "61904         1\n",
      "98248         2\n",
      "           ... \n",
      "1845496       1\n",
      "1868395       1\n",
      "1916303    7226\n",
      "1964211    5237\n",
      "2001433       1\n",
      "Name: Sub_metering_3, Length: 71, dtype: int64\n"
     ]
    }
   ],
   "source": [
    "# Identify consecutive null groups for Sub_metering_3\n",
    "null_gaps = df['Sub_metering_3'].isnull().astype(int).groupby(df['Sub_metering_3'].notnull().cumsum()).sum()\n",
    "\n",
    "# Display the size of null gaps greater than 0\n",
    "print(null_gaps[null_gaps > 0])"
   ]
  },
  {
   "cell_type": "code",
   "execution_count": 16,
   "id": "15aa2756-e1f3-4e45-bd05-6915714ef2d4",
   "metadata": {},
   "outputs": [
    {
     "name": "stdout",
     "output_type": "stream",
     "text": [
      "Sub_metering_2\n",
      "6839          2\n",
      "19722         2\n",
      "41828         1\n",
      "61904         1\n",
      "98248         2\n",
      "           ... \n",
      "1845496       1\n",
      "1868395       1\n",
      "1916303    7226\n",
      "1964211    5237\n",
      "2001433       1\n",
      "Name: Sub_metering_2, Length: 71, dtype: int64\n"
     ]
    }
   ],
   "source": [
    "# Identify consecutive null groups for Sub_metering_2\n",
    "null_gaps = df['Sub_metering_2'].isnull().astype(int).groupby(df['Sub_metering_2'].notnull().cumsum()).sum()\n",
    "\n",
    "# Display the size of null gaps greater than 0\n",
    "print(null_gaps[null_gaps > 0])"
   ]
  },
  {
   "cell_type": "code",
   "execution_count": 17,
   "id": "7c2d3bc0-d457-4e18-a9df-3f2a4939488e",
   "metadata": {},
   "outputs": [
    {
     "name": "stdout",
     "output_type": "stream",
     "text": [
      "Sub_metering_1\n",
      "6839          2\n",
      "19722         2\n",
      "41828         1\n",
      "61904         1\n",
      "98248         2\n",
      "           ... \n",
      "1845496       1\n",
      "1868395       1\n",
      "1916303    7226\n",
      "1964211    5237\n",
      "2001433       1\n",
      "Name: Sub_metering_1, Length: 71, dtype: int64\n"
     ]
    }
   ],
   "source": [
    "# Identify consecutive null groups for Sub_metering_1\n",
    "null_gaps = df['Sub_metering_1'].isnull().astype(int).groupby(df['Sub_metering_1'].notnull().cumsum()).sum()\n",
    "\n",
    "# Display the size of null gaps greater than 0\n",
    "print(null_gaps[null_gaps > 0])"
   ]
  },
  {
   "cell_type": "code",
   "execution_count": 18,
   "id": "ccb7553f-c651-40e2-9496-09d667e8f2d2",
   "metadata": {},
   "outputs": [
    {
     "name": "stderr",
     "output_type": "stream",
     "text": [
      "/tmp/ipykernel_13425/3214669798.py:2: FutureWarning: Series.fillna with 'method' is deprecated and will raise in a future version. Use obj.ffill() or obj.bfill() instead.\n",
      "  df['Sub_metering_1'] = df['Sub_metering_1'].fillna(method='ffill', limit=5)\n",
      "/tmp/ipykernel_13425/3214669798.py:3: FutureWarning: Series.fillna with 'method' is deprecated and will raise in a future version. Use obj.ffill() or obj.bfill() instead.\n",
      "  df['Sub_metering_1'] = df['Sub_metering_1'].fillna(method='bfill', limit=5)\n"
     ]
    }
   ],
   "source": [
    "# Forward fill and backward fill for small gaps\n",
    "df['Sub_metering_1'] = df['Sub_metering_1'].fillna(method='ffill', limit=5)\n",
    "df['Sub_metering_1'] = df['Sub_metering_1'].fillna(method='bfill', limit=5)\n",
    "\n",
    "# Interpolate for remaining large gaps\n",
    "df['Sub_metering_1'] = df['Sub_metering_1'].interpolate(method='linear', limit_direction='both')"
   ]
  },
  {
   "cell_type": "code",
   "execution_count": 19,
   "id": "44dd3378-e631-46a6-be02-a8daa8817837",
   "metadata": {},
   "outputs": [
    {
     "name": "stderr",
     "output_type": "stream",
     "text": [
      "/tmp/ipykernel_13425/3004226653.py:2: FutureWarning: Series.fillna with 'method' is deprecated and will raise in a future version. Use obj.ffill() or obj.bfill() instead.\n",
      "  df['Sub_metering_2'] = df['Sub_metering_2'].fillna(method='ffill', limit=5)\n",
      "/tmp/ipykernel_13425/3004226653.py:3: FutureWarning: Series.fillna with 'method' is deprecated and will raise in a future version. Use obj.ffill() or obj.bfill() instead.\n",
      "  df['Sub_metering_2'] = df['Sub_metering_2'].fillna(method='bfill', limit=5)\n"
     ]
    }
   ],
   "source": [
    "# Forward fill and backward fill for small gaps\n",
    "df['Sub_metering_2'] = df['Sub_metering_2'].fillna(method='ffill', limit=5)\n",
    "df['Sub_metering_2'] = df['Sub_metering_2'].fillna(method='bfill', limit=5)\n",
    "\n",
    "# Interpolate for remaining large gaps\n",
    "df['Sub_metering_2'] = df['Sub_metering_2'].interpolate(method='linear', limit_direction='both')"
   ]
  },
  {
   "cell_type": "code",
   "execution_count": 20,
   "id": "b3431daf-2824-4bb3-816f-0ffddcd42d2b",
   "metadata": {},
   "outputs": [
    {
     "name": "stderr",
     "output_type": "stream",
     "text": [
      "/tmp/ipykernel_13425/1506314993.py:2: FutureWarning: Series.fillna with 'method' is deprecated and will raise in a future version. Use obj.ffill() or obj.bfill() instead.\n",
      "  df['Sub_metering_3'] = df['Sub_metering_3'].fillna(method='ffill', limit=5)\n",
      "/tmp/ipykernel_13425/1506314993.py:3: FutureWarning: Series.fillna with 'method' is deprecated and will raise in a future version. Use obj.ffill() or obj.bfill() instead.\n",
      "  df['Sub_metering_3'] = df['Sub_metering_3'].fillna(method='bfill', limit=5)\n"
     ]
    }
   ],
   "source": [
    "# Forward fill and backward fill for small gaps\n",
    "df['Sub_metering_3'] = df['Sub_metering_3'].fillna(method='ffill', limit=5)\n",
    "df['Sub_metering_3'] = df['Sub_metering_3'].fillna(method='bfill', limit=5)\n",
    "\n",
    "# Interpolate for remaining large gaps\n",
    "df['Sub_metering_3'] = df['Sub_metering_3'].interpolate(method='linear', limit_direction='both')"
   ]
  },
  {
   "cell_type": "code",
   "execution_count": 24,
   "id": "5096d02a-bf33-4d61-b0dd-234b57e611cc",
   "metadata": {},
   "outputs": [
    {
     "data": {
      "image/png": "[encoded data removed]",
      "text/plain": [
       "<Figure size 1200x600 with 1 Axes>"
      ]
     },
     "metadata": {},
     "output_type": "display_data"
    }
   ],
   "source": [
    "import matplotlib.pyplot as plt\n",
    "\n",
    "plt.figure(figsize=(12, 6))\n",
    "plt.plot(df['Sub_metering_3'], label='Sub_metering_3 (after filling)', color='blue')\n",
    "plt.title(\"Sub_metering_3 After Handling Missing Data\")\n",
    "plt.xlabel(\"Time\")\n",
    "plt.ylabel(\"Values\")\n",
    "plt.legend()\n",
    "plt.show()"
   ]
  },
  {
   "cell_type": "code",
   "execution_count": 22,
   "id": "45b2e5f4-5e0f-4de3-9d48-3d490b26f89e",
   "metadata": {},
   "outputs": [
    {
     "name": "stdout",
     "output_type": "stream",
     "text": [
      "Sub_metering_1    0\n",
      "Sub_metering_2    0\n",
      "Sub_metering_3    0\n",
      "dtype: int64\n"
     ]
    }
   ],
   "source": [
    "print(df[['Sub_metering_1', 'Sub_metering_2', 'Sub_metering_3']].isnull().sum())"
   ]
  },
  {
   "cell_type": "code",
   "execution_count": 25,
   "id": "18ae2579-1243-4d01-bb09-0369ffc2e07c",
   "metadata": {},
   "outputs": [
    {
     "name": "stdout",
     "output_type": "stream",
     "text": [
      "<class 'pandas.core.frame.DataFrame'>\n",
      "RangeIndex: 2075259 entries, 0 to 2075258\n",
      "Data columns (total 9 columns):\n",
      " #   Column                 Dtype  \n",
      "---  ------                 -----  \n",
      " 0   Date                   object \n",
      " 1   Time                   object \n",
      " 2   Global_active_power    object \n",
      " 3   Global_reactive_power  object \n",
      " 4   Voltage                object \n",
      " 5   Global_intensity       object \n",
      " 6   Sub_metering_1         float64\n",
      " 7   Sub_metering_2         float64\n",
      " 8   Sub_metering_3         float64\n",
      "dtypes: float64(3), object(6)\n",
      "memory usage: 142.5+ MB\n"
     ]
    }
   ],
   "source": [
    "df.info()"
   ]
  },
  {
   "cell_type": "code",
   "execution_count": 26,
   "id": "ddd62027-cb32-456f-9b6b-b05982884380",
   "metadata": {},
   "outputs": [
    {
     "data": {
      "text/html": [
       "<div>\n",
       "<style scoped>\n",
       "    .dataframe tbody tr th:only-of-type {\n",
       "        vertical-align: middle;\n",
       "    }\n",
       "\n",
       "    .dataframe tbody tr th {\n",
       "        vertical-align: top;\n",
       "    }\n",
       "\n",
       "    .dataframe thead th {\n",
       "        text-align: right;\n",
       "    }\n",
       "</style>\n",
       "<table border=\"1\" class=\"dataframe\">\n",
       "  <thead>\n",
       "    <tr style=\"text-align: right;\">\n",
       "      <th></th>\n",
       "      <th>Date</th>\n",
       "      <th>Time</th>\n",
       "      <th>Global_active_power</th>\n",
       "      <th>Global_reactive_power</th>\n",
       "      <th>Voltage</th>\n",
       "      <th>Global_intensity</th>\n",
       "      <th>Sub_metering_1</th>\n",
       "      <th>Sub_metering_2</th>\n",
       "      <th>Sub_metering_3</th>\n",
       "    </tr>\n",
       "  </thead>\n",
       "  <tbody>\n",
       "    <tr>\n",
       "      <th>0</th>\n",
       "      <td>16/12/2006</td>\n",
       "      <td>17:24:00</td>\n",
       "      <td>4.216</td>\n",
       "      <td>0.418</td>\n",
       "      <td>234.840</td>\n",
       "      <td>18.400</td>\n",
       "      <td>0.0</td>\n",
       "      <td>1.0</td>\n",
       "      <td>17.0</td>\n",
       "    </tr>\n",
       "    <tr>\n",
       "      <th>1</th>\n",
       "      <td>16/12/2006</td>\n",
       "      <td>17:25:00</td>\n",
       "      <td>5.360</td>\n",
       "      <td>0.436</td>\n",
       "      <td>233.630</td>\n",
       "      <td>23.000</td>\n",
       "      <td>0.0</td>\n",
       "      <td>1.0</td>\n",
       "      <td>16.0</td>\n",
       "    </tr>\n",
       "    <tr>\n",
       "      <th>2</th>\n",
       "      <td>16/12/2006</td>\n",
       "      <td>17:26:00</td>\n",
       "      <td>5.374</td>\n",
       "      <td>0.498</td>\n",
       "      <td>233.290</td>\n",
       "      <td>23.000</td>\n",
       "      <td>0.0</td>\n",
       "      <td>2.0</td>\n",
       "      <td>17.0</td>\n",
       "    </tr>\n",
       "    <tr>\n",
       "      <th>3</th>\n",
       "      <td>16/12/2006</td>\n",
       "      <td>17:27:00</td>\n",
       "      <td>5.388</td>\n",
       "      <td>0.502</td>\n",
       "      <td>233.740</td>\n",
       "      <td>23.000</td>\n",
       "      <td>0.0</td>\n",
       "      <td>1.0</td>\n",
       "      <td>17.0</td>\n",
       "    </tr>\n",
       "    <tr>\n",
       "      <th>4</th>\n",
       "      <td>16/12/2006</td>\n",
       "      <td>17:28:00</td>\n",
       "      <td>3.666</td>\n",
       "      <td>0.528</td>\n",
       "      <td>235.680</td>\n",
       "      <td>15.800</td>\n",
       "      <td>0.0</td>\n",
       "      <td>1.0</td>\n",
       "      <td>17.0</td>\n",
       "    </tr>\n",
       "  </tbody>\n",
       "</table>\n",
       "</div>"
      ],
      "text/plain": [
       "         Date      Time Global_active_power Global_reactive_power  Voltage  \\\n",
       "0  16/12/2006  17:24:00               4.216                 0.418  234.840   \n",
       "1  16/12/2006  17:25:00               5.360                 0.436  233.630   \n",
       "2  16/12/2006  17:26:00               5.374                 0.498  233.290   \n",
       "3  16/12/2006  17:27:00               5.388                 0.502  233.740   \n",
       "4  16/12/2006  17:28:00               3.666                 0.528  235.680   \n",
       "\n",
       "  Global_intensity  Sub_metering_1  Sub_metering_2  Sub_metering_3  \n",
       "0           18.400             0.0             1.0            17.0  \n",
       "1           23.000             0.0             1.0            16.0  \n",
       "2           23.000             0.0             2.0            17.0  \n",
       "3           23.000             0.0             1.0            17.0  \n",
       "4           15.800             0.0             1.0            17.0  "
      ]
     },
     "execution_count": 26,
     "metadata": {},
     "output_type": "execute_result"
    }
   ],
   "source": [
    "df.head()"
   ]
  },
  {
   "cell_type": "code",
   "execution_count": 32,
   "id": "7db57a2f-470f-4f54-9e56-b1132e3c8c6e",
   "metadata": {},
   "outputs": [
    {
     "name": "stdout",
     "output_type": "stream",
     "text": [
      "[np.float64(17.0), np.float64(16.0), np.float64(18.0), np.float64(9.0), np.float64(0.0), np.float64(5.0), np.float64(19.0), np.float64(10.0), np.float64(20.0), np.float64(8.0), np.float64(4.0), np.float64(2.0), np.float64(3.0), np.float64(11.0), np.float64(13.0), np.float64(6.0), np.float64(15.0), np.float64(12.0), np.float64(1.0), np.float64(14.0), np.float64(7.0), np.float64(0.8), np.float64(1.7), np.float64(2.5), np.float64(3.3), np.float64(4.2), np.float64(5.8), np.float64(6.7), np.float64(7.5), np.float64(8.3), np.float64(9.2), np.float64(10.8), np.float64(11.7), np.float64(12.5), np.float64(13.3), np.float64(14.2), np.float64(15.8), np.float64(16.7), np.float64(17.5), np.float64(18.3), np.float64(19.2), np.float64(1.4), np.float64(2.8), np.float64(5.7), np.float64(7.1), np.float64(8.5), np.float64(9.9), np.float64(11.3), np.float64(12.8), np.float64(15.6), np.float64(23.0), np.float64(25.0), np.float64(26.0), np.float64(28.0), np.float64(27.0), np.float64(21.0), np.float64(22.0), np.float64(29.0), np.float64(24.0), np.float64(30.0), np.float64(31.0), np.float64(17.1), np.float64(17.2), np.float64(17.3), np.float64(17.4), np.float64(17.6), np.float64(17.7), np.float64(17.8), np.float64(17.9), np.float64(18.1), np.float64(18.2), np.float64(18.4), np.float64(18.5), np.float64(18.6), np.float64(18.7), np.float64(18.8), np.float64(18.9), np.float64(19.1), np.float64(19.3), np.float64(19.4), np.float64(19.5), np.float64(19.6), np.float64(19.7), np.float64(19.8), np.float64(19.9), np.float64(20.1), np.float64(20.2), np.float64(20.3), np.float64(20.4), np.float64(20.5), np.float64(20.6), np.float64(20.7), np.float64(20.8), np.float64(20.9), np.float64(1.1), np.float64(1.2), np.float64(1.3), np.float64(1.5), np.float64(1.6), np.float64(1.8), np.float64(1.9), np.float64(2.1), np.float64(2.2), np.float64(2.3), np.float64(2.4), np.float64(2.6), np.float64(2.7), np.float64(2.9), np.float64(3.1), np.float64(3.2), np.float64(3.4), np.float64(3.5), np.float64(3.6), np.float64(3.7), np.float64(3.8), np.float64(3.9), np.float64(4.1), np.float64(4.3), np.float64(4.4), np.float64(4.5), np.float64(4.6), np.float64(4.7), np.float64(4.8), np.float64(4.9), np.float64(5.1), np.float64(5.2), np.float64(5.3), np.float64(5.4), np.float64(5.5), np.float64(5.6), np.float64(5.9), np.float64(6.1), np.float64(6.2), np.float64(6.3), np.float64(6.4), np.float64(6.5), np.float64(6.6), np.float64(6.8), np.float64(6.9), np.float64(7.2), np.float64(7.3), np.float64(7.4), np.float64(7.6), np.float64(7.7), np.float64(7.8), np.float64(7.9), np.float64(8.1), np.float64(8.2), np.float64(8.4), np.float64(8.6), np.float64(8.7), np.float64(8.8), np.float64(8.9), np.float64(9.1), np.float64(9.3), np.float64(9.4), np.float64(9.5), np.float64(9.6), np.float64(9.7), np.float64(9.8), np.float64(10.1), np.float64(10.2), np.float64(10.3), np.float64(10.4), np.float64(10.5), np.float64(10.6), np.float64(10.7), np.float64(10.9), np.float64(11.1), np.float64(11.2), np.float64(11.4), np.float64(11.5), np.float64(11.6), np.float64(11.8), np.float64(11.9), np.float64(12.1), np.float64(12.2), np.float64(12.3), np.float64(12.4), np.float64(12.6), np.float64(12.7), np.float64(12.9), np.float64(13.1), np.float64(13.2), np.float64(13.4), np.float64(13.5), np.float64(13.6), np.float64(13.7), np.float64(13.8), np.float64(13.9), np.float64(14.1), np.float64(14.3), np.float64(14.4), np.float64(14.5), np.float64(14.6), np.float64(14.7), np.float64(14.8), np.float64(14.9), np.float64(15.1), np.float64(15.2), np.float64(15.3), np.float64(15.4), np.float64(15.5), np.float64(15.7), np.float64(15.9), np.float64(16.1), np.float64(16.2), np.float64(16.3), np.float64(16.4), np.float64(16.5), np.float64(16.6), np.float64(16.8), np.float64(16.9), np.float64(21.1), np.float64(21.2), np.float64(21.3), np.float64(21.4), np.float64(21.5), np.float64(21.6), np.float64(21.7), np.float64(21.8), np.float64(21.9), np.float64(22.1), np.float64(22.2), np.float64(22.3), np.float64(22.4), np.float64(22.5), np.float64(22.6), np.float64(22.7), np.float64(22.8), np.float64(22.9), np.float64(23.1), np.float64(23.2), np.float64(23.3), np.float64(23.4), np.float64(23.5), np.float64(23.6), np.float64(23.7), np.float64(23.8), np.float64(23.9), np.float64(24.1), np.float64(24.2), np.float64(24.3), np.float64(24.4), np.float64(24.5), np.float64(24.6), np.float64(24.7), np.float64(24.8), np.float64(24.9), np.float64(0.9), np.float64(0.7), np.float64(0.6), np.float64(0.5), np.float64(0.4), np.float64(0.3), np.float64(0.2), np.float64(0.1)]\n"
     ]
    }
   ],
   "source": [
    "print(list(df[\"Sub_metering_3\"].unique()))"
   ]
  },
  {
   "cell_type": "code",
   "execution_count": 31,
   "id": "a9127f5e-4745-46dc-b973-5d63ac8a290b",
   "metadata": {},
   "outputs": [],
   "source": [
    "# Round to the nearest tenth (1 decimal place)\n",
    "df[['Sub_metering_1', 'Sub_metering_2', 'Sub_metering_3']] = df[['Sub_metering_1', 'Sub_metering_2', 'Sub_metering_3']].round(1)"
   ]
  },
  {
   "cell_type": "code",
   "execution_count": 35,
   "id": "8026e2c3-9c1e-4fc9-a2de-e1ab6fef691a",
   "metadata": {},
   "outputs": [
    {
     "data": {
      "text/html": [
       "<div>\n",
       "<style scoped>\n",
       "    .dataframe tbody tr th:only-of-type {\n",
       "        vertical-align: middle;\n",
       "    }\n",
       "\n",
       "    .dataframe tbody tr th {\n",
       "        vertical-align: top;\n",
       "    }\n",
       "\n",
       "    .dataframe thead th {\n",
       "        text-align: right;\n",
       "    }\n",
       "</style>\n",
       "<table border=\"1\" class=\"dataframe\">\n",
       "  <thead>\n",
       "    <tr style=\"text-align: right;\">\n",
       "      <th></th>\n",
       "      <th>Date</th>\n",
       "      <th>Time</th>\n",
       "      <th>Global_active_power</th>\n",
       "      <th>Global_reactive_power</th>\n",
       "      <th>Voltage</th>\n",
       "      <th>Global_intensity</th>\n",
       "      <th>Sub_metering_1</th>\n",
       "      <th>Sub_metering_2</th>\n",
       "      <th>Sub_metering_3</th>\n",
       "    </tr>\n",
       "  </thead>\n",
       "  <tbody>\n",
       "    <tr>\n",
       "      <th>0</th>\n",
       "      <td>2006-12-16</td>\n",
       "      <td>17:24:00</td>\n",
       "      <td>4.216</td>\n",
       "      <td>0.418</td>\n",
       "      <td>234.840</td>\n",
       "      <td>18.400</td>\n",
       "      <td>0.0</td>\n",
       "      <td>1.0</td>\n",
       "      <td>17.0</td>\n",
       "    </tr>\n",
       "    <tr>\n",
       "      <th>1</th>\n",
       "      <td>2006-12-16</td>\n",
       "      <td>17:25:00</td>\n",
       "      <td>5.360</td>\n",
       "      <td>0.436</td>\n",
       "      <td>233.630</td>\n",
       "      <td>23.000</td>\n",
       "      <td>0.0</td>\n",
       "      <td>1.0</td>\n",
       "      <td>16.0</td>\n",
       "    </tr>\n",
       "    <tr>\n",
       "      <th>2</th>\n",
       "      <td>2006-12-16</td>\n",
       "      <td>17:26:00</td>\n",
       "      <td>5.374</td>\n",
       "      <td>0.498</td>\n",
       "      <td>233.290</td>\n",
       "      <td>23.000</td>\n",
       "      <td>0.0</td>\n",
       "      <td>2.0</td>\n",
       "      <td>17.0</td>\n",
       "    </tr>\n",
       "    <tr>\n",
       "      <th>3</th>\n",
       "      <td>2006-12-16</td>\n",
       "      <td>17:27:00</td>\n",
       "      <td>5.388</td>\n",
       "      <td>0.502</td>\n",
       "      <td>233.740</td>\n",
       "      <td>23.000</td>\n",
       "      <td>0.0</td>\n",
       "      <td>1.0</td>\n",
       "      <td>17.0</td>\n",
       "    </tr>\n",
       "    <tr>\n",
       "      <th>4</th>\n",
       "      <td>2006-12-16</td>\n",
       "      <td>17:28:00</td>\n",
       "      <td>3.666</td>\n",
       "      <td>0.528</td>\n",
       "      <td>235.680</td>\n",
       "      <td>15.800</td>\n",
       "      <td>0.0</td>\n",
       "      <td>1.0</td>\n",
       "      <td>17.0</td>\n",
       "    </tr>\n",
       "  </tbody>\n",
       "</table>\n",
       "</div>"
      ],
      "text/plain": [
       "        Date      Time Global_active_power Global_reactive_power  Voltage  \\\n",
       "0 2006-12-16  17:24:00               4.216                 0.418  234.840   \n",
       "1 2006-12-16  17:25:00               5.360                 0.436  233.630   \n",
       "2 2006-12-16  17:26:00               5.374                 0.498  233.290   \n",
       "3 2006-12-16  17:27:00               5.388                 0.502  233.740   \n",
       "4 2006-12-16  17:28:00               3.666                 0.528  235.680   \n",
       "\n",
       "  Global_intensity  Sub_metering_1  Sub_metering_2  Sub_metering_3  \n",
       "0           18.400             0.0             1.0            17.0  \n",
       "1           23.000             0.0             1.0            16.0  \n",
       "2           23.000             0.0             2.0            17.0  \n",
       "3           23.000             0.0             1.0            17.0  \n",
       "4           15.800             0.0             1.0            17.0  "
      ]
     },
     "execution_count": 35,
     "metadata": {},
     "output_type": "execute_result"
    }
   ],
   "source": [
    "df.head()"
   ]
  },
  {
   "cell_type": "code",
   "execution_count": 34,
   "id": "5b7c14b6-73cb-4a4b-924d-ad094e7fa26d",
   "metadata": {},
   "outputs": [],
   "source": [
    "# Convert 'Date' column to datetime format and standardize to YYYY-MM-DD\n",
    "df['Date'] = pd.to_datetime(df['Date'], format='%d/%m/%Y').dt.strftime('%Y-%m-%d')\n",
    "\n",
    "# Ensure 'Date' column is of datetime type\n",
    "df['Date'] = pd.to_datetime(df['Date'])"
   ]
  },
  {
   "cell_type": "code",
   "execution_count": 36,
   "id": "6ccd6d30-9047-4cec-bd5d-3dfb506d53bd",
   "metadata": {},
   "outputs": [
    {
     "name": "stdout",
     "output_type": "stream",
     "text": [
      "<class 'pandas.core.frame.DataFrame'>\n",
      "RangeIndex: 2075259 entries, 0 to 2075258\n",
      "Data columns (total 9 columns):\n",
      " #   Column                 Dtype         \n",
      "---  ------                 -----         \n",
      " 0   Date                   datetime64[ns]\n",
      " 1   Time                   object        \n",
      " 2   Global_active_power    object        \n",
      " 3   Global_reactive_power  object        \n",
      " 4   Voltage                object        \n",
      " 5   Global_intensity       object        \n",
      " 6   Sub_metering_1         float64       \n",
      " 7   Sub_metering_2         float64       \n",
      " 8   Sub_metering_3         float64       \n",
      "dtypes: datetime64[ns](1), float64(3), object(5)\n",
      "memory usage: 142.5+ MB\n"
     ]
    }
   ],
   "source": [
    "df.info()"
   ]
  },
  {
   "cell_type": "code",
   "execution_count": 37,
   "id": "159e49ba-ca10-4752-b383-dcb8cc883b3e",
   "metadata": {},
   "outputs": [
    {
     "name": "stdout",
     "output_type": "stream",
     "text": [
      "        Date  Sub_metering_1  Sub_metering_2  Sub_metering_3\n",
      "0 2006-12-16             0.0           546.0          4926.0\n",
      "1 2006-12-17          2033.0          4187.0         13341.0\n",
      "2 2006-12-18          1063.0          2621.0         14018.0\n",
      "3 2006-12-19           839.0          7602.0          6197.0\n",
      "4 2006-12-20             0.0          2648.0         14063.0\n"
     ]
    }
   ],
   "source": [
    "# Group by 'Date' and sum the float columns\n",
    "daily_sums = df.groupby('Date', as_index=False)[['Sub_metering_1', 'Sub_metering_2', 'Sub_metering_3']].sum()\n",
    "\n",
    "# Display the resulting DataFrame\n",
    "print(daily_sums.head())"
   ]
  },
  {
   "cell_type": "code",
   "execution_count": 38,
   "id": "4edddca9-ef32-4827-aa26-fd6930f66ad9",
   "metadata": {},
   "outputs": [
    {
     "data": {
      "text/plain": [
       "Date              datetime64[ns]\n",
       "Sub_metering_1           float64\n",
       "Sub_metering_2           float64\n",
       "Sub_metering_3           float64\n",
       "dtype: object"
      ]
     },
     "execution_count": 38,
     "metadata": {},
     "output_type": "execute_result"
    }
   ],
   "source": [
    "daily_sums.dtypes"
   ]
  },
  {
   "cell_type": "code",
   "execution_count": 39,
   "id": "56468a6b-4bf6-4e42-9d42-f25327efbd82",
   "metadata": {},
   "outputs": [],
   "source": [
    "daily_sums.to_feather('daily_sums.feather')"
   ]
  },
  {
   "cell_type": "code",
   "execution_count": 40,
   "id": "0c035fbd-1e66-477a-939e-96e5fff41c23",
   "metadata": {},
   "outputs": [
    {
     "name": "stdout",
     "output_type": "stream",
     "text": [
      "<class 'pandas.core.frame.DataFrame'>\n",
      "RangeIndex: 1442 entries, 0 to 1441\n",
      "Data columns (total 4 columns):\n",
      " #   Column          Non-Null Count  Dtype         \n",
      "---  ------          --------------  -----         \n",
      " 0   Date            1442 non-null   datetime64[ns]\n",
      " 1   Sub_metering_1  1442 non-null   float64       \n",
      " 2   Sub_metering_2  1442 non-null   float64       \n",
      " 3   Sub_metering_3  1442 non-null   float64       \n",
      "dtypes: datetime64[ns](1), float64(3)\n",
      "memory usage: 45.2 KB\n"
     ]
    }
   ],
   "source": [
    "daily_sums.info()"
   ]
  },
  {
   "cell_type": "code",
   "execution_count": 41,
   "id": "e1cb10a6-9a19-4db0-a544-33d31cd50b4c",
   "metadata": {},
   "outputs": [],
   "source": [
    "df = pd.read_feather('dataset.feather')"
   ]
  },
  {
   "cell_type": "code",
   "execution_count": 42,
   "id": "ab28c6f2-410d-42ed-ab0b-aff83d827ada",
   "metadata": {},
   "outputs": [
    {
     "name": "stdout",
     "output_type": "stream",
     "text": [
      "<class 'pandas.core.frame.DataFrame'>\n",
      "RangeIndex: 1442 entries, 0 to 1441\n",
      "Data columns (total 3 columns):\n",
      " #   Column     Non-Null Count  Dtype         \n",
      "---  ------     --------------  -----         \n",
      " 0   Date       1442 non-null   datetime64[ns]\n",
      " 1   app_power  1442 non-null   float64       \n",
      " 2   temp       1442 non-null   float64       \n",
      "dtypes: datetime64[ns](1), float64(2)\n",
      "memory usage: 33.9 KB\n"
     ]
    }
   ],
   "source": [
    "df.info()"
   ]
  },
  {
   "cell_type": "markdown",
   "id": "04db1538-b261-4c16-89c8-cec5ca5947b3",
   "metadata": {},
   "source": [
    "\n",
    "##### Let's merge the Sub_mertering columns into our dataset using 'Date' as the key.\n"
   ]
  },
  {
   "cell_type": "code",
   "execution_count": 43,
   "id": "71162109-a8d5-4adf-8f61-fdefd6d3bfa6",
   "metadata": {},
   "outputs": [],
   "source": [
    "# Merge 'daily_sums' into 'df' using 'Date' as the key\n",
    "df = pd.merge(df, daily_sums[['Date', 'Sub_metering_1', 'Sub_metering_2', 'Sub_metering_3']], \n",
    "              on='Date', how='left')"
   ]
  },
  {
   "cell_type": "code",
   "execution_count": 44,
   "id": "8902acce-e6c7-48aa-8ee8-cf03a2724fb5",
   "metadata": {},
   "outputs": [
    {
     "data": {
      "text/html": [
       "<div>\n",
       "<style scoped>\n",
       "    .dataframe tbody tr th:only-of-type {\n",
       "        vertical-align: middle;\n",
       "    }\n",
       "\n",
       "    .dataframe tbody tr th {\n",
       "        vertical-align: top;\n",
       "    }\n",
       "\n",
       "    .dataframe thead th {\n",
       "        text-align: right;\n",
       "    }\n",
       "</style>\n",
       "<table border=\"1\" class=\"dataframe\">\n",
       "  <thead>\n",
       "    <tr style=\"text-align: right;\">\n",
       "      <th></th>\n",
       "      <th>Date</th>\n",
       "      <th>app_power</th>\n",
       "      <th>temp</th>\n",
       "      <th>Sub_metering_1</th>\n",
       "      <th>Sub_metering_2</th>\n",
       "      <th>Sub_metering_3</th>\n",
       "    </tr>\n",
       "  </thead>\n",
       "  <tbody>\n",
       "    <tr>\n",
       "      <th>0</th>\n",
       "      <td>2006-12-16</td>\n",
       "      <td>1210.250117</td>\n",
       "      <td>42.98</td>\n",
       "      <td>0.0</td>\n",
       "      <td>546.0</td>\n",
       "      <td>4926.0</td>\n",
       "    </tr>\n",
       "    <tr>\n",
       "      <th>1</th>\n",
       "      <td>2006-12-17</td>\n",
       "      <td>3406.467166</td>\n",
       "      <td>40.10</td>\n",
       "      <td>2033.0</td>\n",
       "      <td>4187.0</td>\n",
       "      <td>13341.0</td>\n",
       "    </tr>\n",
       "    <tr>\n",
       "      <th>2</th>\n",
       "      <td>2006-12-18</td>\n",
       "      <td>2222.018835</td>\n",
       "      <td>39.92</td>\n",
       "      <td>1063.0</td>\n",
       "      <td>2621.0</td>\n",
       "      <td>14018.0</td>\n",
       "    </tr>\n",
       "    <tr>\n",
       "      <th>3</th>\n",
       "      <td>2006-12-19</td>\n",
       "      <td>1685.781483</td>\n",
       "      <td>36.68</td>\n",
       "      <td>839.0</td>\n",
       "      <td>7602.0</td>\n",
       "      <td>6197.0</td>\n",
       "    </tr>\n",
       "    <tr>\n",
       "      <th>4</th>\n",
       "      <td>2006-12-20</td>\n",
       "      <td>2241.770383</td>\n",
       "      <td>37.40</td>\n",
       "      <td>0.0</td>\n",
       "      <td>2648.0</td>\n",
       "      <td>14063.0</td>\n",
       "    </tr>\n",
       "  </tbody>\n",
       "</table>\n",
       "</div>"
      ],
      "text/plain": [
       "        Date    app_power   temp  Sub_metering_1  Sub_metering_2  \\\n",
       "0 2006-12-16  1210.250117  42.98             0.0           546.0   \n",
       "1 2006-12-17  3406.467166  40.10          2033.0          4187.0   \n",
       "2 2006-12-18  2222.018835  39.92          1063.0          2621.0   \n",
       "3 2006-12-19  1685.781483  36.68           839.0          7602.0   \n",
       "4 2006-12-20  2241.770383  37.40             0.0          2648.0   \n",
       "\n",
       "   Sub_metering_3  \n",
       "0          4926.0  \n",
       "1         13341.0  \n",
       "2         14018.0  \n",
       "3          6197.0  \n",
       "4         14063.0  "
      ]
     },
     "execution_count": 44,
     "metadata": {},
     "output_type": "execute_result"
    }
   ],
   "source": [
    "df.head()"
   ]
  },
  {
   "cell_type": "code",
   "execution_count": 45,
   "id": "90693cb2-d6b4-4fe1-bd36-9c4a73d8ef12",
   "metadata": {},
   "outputs": [],
   "source": [
    "df.to_feather('dataset_current.feather')"
   ]
  },
  {
   "cell_type": "code",
   "execution_count": 46,
   "id": "daf2db9a-bbed-4aee-9757-f0e056d9bd1f",
   "metadata": {},
   "outputs": [
    {
     "data": {
      "text/html": [
       "<div>\n",
       "<style scoped>\n",
       "    .dataframe tbody tr th:only-of-type {\n",
       "        vertical-align: middle;\n",
       "    }\n",
       "\n",
       "    .dataframe tbody tr th {\n",
       "        vertical-align: top;\n",
       "    }\n",
       "\n",
       "    .dataframe thead th {\n",
       "        text-align: right;\n",
       "    }\n",
       "</style>\n",
       "<table border=\"1\" class=\"dataframe\">\n",
       "  <thead>\n",
       "    <tr style=\"text-align: right;\">\n",
       "      <th></th>\n",
       "      <th>Date</th>\n",
       "      <th>app_power</th>\n",
       "      <th>temp</th>\n",
       "      <th>Sub_metering_1</th>\n",
       "      <th>Sub_metering_2</th>\n",
       "      <th>Sub_metering_3</th>\n",
       "    </tr>\n",
       "  </thead>\n",
       "  <tbody>\n",
       "    <tr>\n",
       "      <th>1437</th>\n",
       "      <td>2010-11-22</td>\n",
       "      <td>2055.077640</td>\n",
       "      <td>40.82</td>\n",
       "      <td>4855.0</td>\n",
       "      <td>2110.0</td>\n",
       "      <td>10136.0</td>\n",
       "    </tr>\n",
       "    <tr>\n",
       "      <th>1438</th>\n",
       "      <td>2010-11-23</td>\n",
       "      <td>1593.457076</td>\n",
       "      <td>41.54</td>\n",
       "      <td>1871.0</td>\n",
       "      <td>458.0</td>\n",
       "      <td>7611.0</td>\n",
       "    </tr>\n",
       "    <tr>\n",
       "      <th>1439</th>\n",
       "      <td>2010-11-24</td>\n",
       "      <td>1809.263446</td>\n",
       "      <td>42.26</td>\n",
       "      <td>1096.0</td>\n",
       "      <td>2848.0</td>\n",
       "      <td>12224.0</td>\n",
       "    </tr>\n",
       "    <tr>\n",
       "      <th>1440</th>\n",
       "      <td>2010-11-25</td>\n",
       "      <td>1443.176559</td>\n",
       "      <td>38.12</td>\n",
       "      <td>1076.0</td>\n",
       "      <td>426.0</td>\n",
       "      <td>5072.0</td>\n",
       "    </tr>\n",
       "    <tr>\n",
       "      <th>1441</th>\n",
       "      <td>2010-11-26</td>\n",
       "      <td>1499.615294</td>\n",
       "      <td>33.98</td>\n",
       "      <td>1080.0</td>\n",
       "      <td>385.0</td>\n",
       "      <td>9989.0</td>\n",
       "    </tr>\n",
       "  </tbody>\n",
       "</table>\n",
       "</div>"
      ],
      "text/plain": [
       "           Date    app_power   temp  Sub_metering_1  Sub_metering_2  \\\n",
       "1437 2010-11-22  2055.077640  40.82          4855.0          2110.0   \n",
       "1438 2010-11-23  1593.457076  41.54          1871.0           458.0   \n",
       "1439 2010-11-24  1809.263446  42.26          1096.0          2848.0   \n",
       "1440 2010-11-25  1443.176559  38.12          1076.0           426.0   \n",
       "1441 2010-11-26  1499.615294  33.98          1080.0           385.0   \n",
       "\n",
       "      Sub_metering_3  \n",
       "1437         10136.0  \n",
       "1438          7611.0  \n",
       "1439         12224.0  \n",
       "1440          5072.0  \n",
       "1441          9989.0  "
      ]
     },
     "execution_count": 46,
     "metadata": {},
     "output_type": "execute_result"
    }
   ],
   "source": [
    "df.tail()"
   ]
  },
  {
   "cell_type": "markdown",
   "id": "73df44ff-72b2-4165-9d61-2ddd13c8e160",
   "metadata": {},
   "source": [
    "\n",
    "##### Let's add 'price' column to the dataset.\n"
   ]
  },
  {
   "cell_type": "code",
   "execution_count": 47,
   "id": "8c48af22-9a66-4334-999e-4c0174ffed9f",
   "metadata": {},
   "outputs": [],
   "source": [
    "# Define the price ranges and corresponding prices\n",
    "price_ranges = [\n",
    "    {'start': '2006-12-01', 'end': '2007-06-01', 'price': 0.1169},\n",
    "    {'start': '2007-06-01', 'end': '2007-12-01', 'price': 0.1184},\n",
    "    {'start': '2007-12-01', 'end': '2008-06-01', 'price': 0.1222},\n",
    "    {'start': '2008-06-01', 'end': '2008-12-01', 'price': 0.1213},\n",
    "    {'start': '2008-12-01', 'end': '2009-06-01', 'price': 0.1203},\n",
    "    {'start': '2009-06-01', 'end': '2009-12-01', 'price': 0.1206},\n",
    "    {'start': '2009-12-01', 'end': '2010-06-01', 'price': 0.1207},\n",
    "    {'start': '2010-06-01', 'end': '2010-12-01', 'price': 0.1283},\n",
    "    {'start': '2010-12-01', 'end': '2011-01-01', 'price': 0.1350}\n",
    "]\n",
    "\n",
    "# Function to determine the price for a given date\n",
    "def assign_price(date):\n",
    "    for r in price_ranges:\n",
    "        if pd.Timestamp(r['start']) <= date < pd.Timestamp(r['end']):\n",
    "            return r['price']\n",
    "    return np.nan  # If the date doesn't fit any range\n",
    "\n",
    "# Add the 'price' column to the DataFrame\n",
    "df['price'] = df['Date'].apply(assign_price)"
   ]
  },
  {
   "cell_type": "code",
   "execution_count": 48,
   "id": "45de6688-a190-4f4c-a8bb-d925bcf60dcd",
   "metadata": {},
   "outputs": [
    {
     "data": {
      "text/html": [
       "<div>\n",
       "<style scoped>\n",
       "    .dataframe tbody tr th:only-of-type {\n",
       "        vertical-align: middle;\n",
       "    }\n",
       "\n",
       "    .dataframe tbody tr th {\n",
       "        vertical-align: top;\n",
       "    }\n",
       "\n",
       "    .dataframe thead th {\n",
       "        text-align: right;\n",
       "    }\n",
       "</style>\n",
       "<table border=\"1\" class=\"dataframe\">\n",
       "  <thead>\n",
       "    <tr style=\"text-align: right;\">\n",
       "      <th></th>\n",
       "      <th>Date</th>\n",
       "      <th>app_power</th>\n",
       "      <th>temp</th>\n",
       "      <th>Sub_metering_1</th>\n",
       "      <th>Sub_metering_2</th>\n",
       "      <th>Sub_metering_3</th>\n",
       "      <th>price</th>\n",
       "    </tr>\n",
       "  </thead>\n",
       "  <tbody>\n",
       "    <tr>\n",
       "      <th>0</th>\n",
       "      <td>2006-12-16</td>\n",
       "      <td>1210.250117</td>\n",
       "      <td>42.98</td>\n",
       "      <td>0.0</td>\n",
       "      <td>546.0</td>\n",
       "      <td>4926.0</td>\n",
       "      <td>0.1169</td>\n",
       "    </tr>\n",
       "    <tr>\n",
       "      <th>1</th>\n",
       "      <td>2006-12-17</td>\n",
       "      <td>3406.467166</td>\n",
       "      <td>40.10</td>\n",
       "      <td>2033.0</td>\n",
       "      <td>4187.0</td>\n",
       "      <td>13341.0</td>\n",
       "      <td>0.1169</td>\n",
       "    </tr>\n",
       "    <tr>\n",
       "      <th>2</th>\n",
       "      <td>2006-12-18</td>\n",
       "      <td>2222.018835</td>\n",
       "      <td>39.92</td>\n",
       "      <td>1063.0</td>\n",
       "      <td>2621.0</td>\n",
       "      <td>14018.0</td>\n",
       "      <td>0.1169</td>\n",
       "    </tr>\n",
       "    <tr>\n",
       "      <th>3</th>\n",
       "      <td>2006-12-19</td>\n",
       "      <td>1685.781483</td>\n",
       "      <td>36.68</td>\n",
       "      <td>839.0</td>\n",
       "      <td>7602.0</td>\n",
       "      <td>6197.0</td>\n",
       "      <td>0.1169</td>\n",
       "    </tr>\n",
       "    <tr>\n",
       "      <th>4</th>\n",
       "      <td>2006-12-20</td>\n",
       "      <td>2241.770383</td>\n",
       "      <td>37.40</td>\n",
       "      <td>0.0</td>\n",
       "      <td>2648.0</td>\n",
       "      <td>14063.0</td>\n",
       "      <td>0.1169</td>\n",
       "    </tr>\n",
       "  </tbody>\n",
       "</table>\n",
       "</div>"
      ],
      "text/plain": [
       "        Date    app_power   temp  Sub_metering_1  Sub_metering_2  \\\n",
       "0 2006-12-16  1210.250117  42.98             0.0           546.0   \n",
       "1 2006-12-17  3406.467166  40.10          2033.0          4187.0   \n",
       "2 2006-12-18  2222.018835  39.92          1063.0          2621.0   \n",
       "3 2006-12-19  1685.781483  36.68           839.0          7602.0   \n",
       "4 2006-12-20  2241.770383  37.40             0.0          2648.0   \n",
       "\n",
       "   Sub_metering_3   price  \n",
       "0          4926.0  0.1169  \n",
       "1         13341.0  0.1169  \n",
       "2         14018.0  0.1169  \n",
       "3          6197.0  0.1169  \n",
       "4         14063.0  0.1169  "
      ]
     },
     "execution_count": 48,
     "metadata": {},
     "output_type": "execute_result"
    }
   ],
   "source": [
    "df.head()"
   ]
  },
  {
   "cell_type": "code",
   "execution_count": 49,
   "id": "4533d2a1-1453-404c-82e4-be9f936267a0",
   "metadata": {},
   "outputs": [],
   "source": [
    "df.to_feather('dataset_current_base.feather')"
   ]
  },
  {
   "cell_type": "code",
   "execution_count": 50,
   "id": "3f274b45-5e23-44c7-9491-28203be96b29",
   "metadata": {},
   "outputs": [
    {
     "name": "stdout",
     "output_type": "stream",
     "text": [
      "[0.1169 0.1184 0.1222 0.1213 0.1203 0.1206 0.1207 0.1283]\n"
     ]
    }
   ],
   "source": [
    "# Display unique values in the 'price' column\n",
    "unique_prices = df['price'].unique()\n",
    "print(unique_prices)"
   ]
  },
  {
   "cell_type": "code",
   "execution_count": 51,
   "id": "190afc26-3618-4946-920c-684a47aab7e0",
   "metadata": {},
   "outputs": [
    {
     "name": "stdout",
     "output_type": "stream",
     "text": [
      "<class 'pandas.core.frame.DataFrame'>\n",
      "RangeIndex: 1442 entries, 0 to 1441\n",
      "Data columns (total 7 columns):\n",
      " #   Column          Non-Null Count  Dtype         \n",
      "---  ------          --------------  -----         \n",
      " 0   Date            1442 non-null   datetime64[ns]\n",
      " 1   app_power       1442 non-null   float64       \n",
      " 2   temp            1442 non-null   float64       \n",
      " 3   Sub_metering_1  1442 non-null   float64       \n",
      " 4   Sub_metering_2  1442 non-null   float64       \n",
      " 5   Sub_metering_3  1442 non-null   float64       \n",
      " 6   price           1442 non-null   float64       \n",
      "dtypes: datetime64[ns](1), float64(6)\n",
      "memory usage: 79.0 KB\n"
     ]
    }
   ],
   "source": [
    "df.info()"
   ]
  },
  {
   "cell_type": "code",
   "execution_count": null,
   "id": "8d178245-f6a0-49ac-aaf9-4e78e025903c",
   "metadata": {},
   "outputs": [],
   "source": []
  }
 ],
 "metadata": {
  "kernelspec": {
   "display_name": "Python 3 (ipykernel)",
   "language": "python",
   "name": "python3"
  },
  "language_info": {
   "codemirror_mode": {
    "name": "ipython",
    "version": 3
   },
   "file_extension": ".py",
   "mimetype": "text/x-python",
   "name": "python",
   "nbconvert_exporter": "python",
   "pygments_lexer": "ipython3",
   "version": "3.12.3"
  }
 },
 "nbformat": 4,
 "nbformat_minor": 5
}
